{
 "cells": [
  {
   "cell_type": "code",
   "metadata": {
    "ExecuteTime": {
     "end_time": "2024-11-04T09:42:07.338386Z",
     "start_time": "2024-11-04T09:42:05.435776Z"
    }
   },
   "source": [
    "from ultralytics import YOLO\n",
    "import torch, torchvision\n",
    "import cv2 as cv\n",
    "import numpy as np"
   ],
   "outputs": [],
   "execution_count": 2
  },
  {
   "cell_type": "code",
   "metadata": {
    "ExecuteTime": {
     "end_time": "2024-11-04T09:42:08.179862Z",
     "start_time": "2024-11-04T09:42:07.343694Z"
    }
   },
   "source": [
    "\n",
    "# Load the weights directly\n",
    "model = YOLO('./train/weights/best.pt')\n",
    "\n",
    "results = model('./gateRender1_903.jpg',device='mps')\n"
   ],
   "outputs": [
    {
     "name": "stdout",
     "output_type": "stream",
     "text": [
      "\n",
      "image 1/1 /Users/michalkozicki/yolo-trained/gateRender1_903.jpg: 640x640 1 gate, 19.2ms\n",
      "Speed: 8.7ms preprocess, 19.2ms inference, 98.2ms postprocess per image at shape (1, 3, 640, 640)\n"
     ]
    }
   ],
   "execution_count": 3
  },
  {
   "cell_type": "code",
   "metadata": {
    "ExecuteTime": {
     "end_time": "2024-11-04T09:42:13.227910Z",
     "start_time": "2024-11-04T09:42:08.188922Z"
    }
   },
   "source": [
    "import pathlib\n",
    "import time\n",
    "val_src = pathlib.Path('/Users/michalkozicki/yolo-trained/drone-vision/datasets/images/val')\n",
    "times = []\n",
    "results = model(val_src)\n",
    "\n"
   ],
   "outputs": [
    {
     "name": "stdout",
     "output_type": "stream",
     "text": [
      "\n",
      "image 1/186 /Users/michalkozicki/yolo-trained/drone-vision/datasets/images/val/gateRender1_1.jpg: 640x640 1 gate, 19.5ms\n",
      "image 2/186 /Users/michalkozicki/yolo-trained/drone-vision/datasets/images/val/gateRender1_101.jpg: 640x640 1 gate, 11.5ms\n",
      "image 3/186 /Users/michalkozicki/yolo-trained/drone-vision/datasets/images/val/gateRender1_115.jpg: 640x640 1 gate, 12.5ms\n",
      "image 4/186 /Users/michalkozicki/yolo-trained/drone-vision/datasets/images/val/gateRender1_126.jpg: 640x640 1 gate, 13.0ms\n",
      "image 5/186 /Users/michalkozicki/yolo-trained/drone-vision/datasets/images/val/gateRender1_132.jpg: 640x640 1 gate, 15.0ms\n",
      "image 6/186 /Users/michalkozicki/yolo-trained/drone-vision/datasets/images/val/gateRender1_135.jpg: 640x640 1 gate, 18.6ms\n",
      "image 7/186 /Users/michalkozicki/yolo-trained/drone-vision/datasets/images/val/gateRender1_137.jpg: 640x640 1 gate, 11.6ms\n",
      "image 8/186 /Users/michalkozicki/yolo-trained/drone-vision/datasets/images/val/gateRender1_14.jpg: 640x640 1 gate, 12.8ms\n",
      "image 9/186 /Users/michalkozicki/yolo-trained/drone-vision/datasets/images/val/gateRender1_156.jpg: 640x640 1 gate, 13.2ms\n",
      "image 10/186 /Users/michalkozicki/yolo-trained/drone-vision/datasets/images/val/gateRender1_157.jpg: 640x640 1 gate, 16.5ms\n",
      "image 11/186 /Users/michalkozicki/yolo-trained/drone-vision/datasets/images/val/gateRender1_16.jpg: 640x640 1 gate, 18.4ms\n",
      "image 12/186 /Users/michalkozicki/yolo-trained/drone-vision/datasets/images/val/gateRender1_160.jpg: 640x640 1 gate, 12.1ms\n",
      "image 13/186 /Users/michalkozicki/yolo-trained/drone-vision/datasets/images/val/gateRender1_166.jpg: 640x640 1 gate, 12.5ms\n",
      "image 14/186 /Users/michalkozicki/yolo-trained/drone-vision/datasets/images/val/gateRender1_167.jpg: 640x640 1 gate, 12.9ms\n",
      "image 15/186 /Users/michalkozicki/yolo-trained/drone-vision/datasets/images/val/gateRender1_176.jpg: 640x640 1 gate, 14.5ms\n",
      "image 16/186 /Users/michalkozicki/yolo-trained/drone-vision/datasets/images/val/gateRender1_183.jpg: 640x640 1 gate, 17.0ms\n",
      "image 17/186 /Users/michalkozicki/yolo-trained/drone-vision/datasets/images/val/gateRender1_187.jpg: 640x640 1 gate, 11.2ms\n",
      "image 18/186 /Users/michalkozicki/yolo-trained/drone-vision/datasets/images/val/gateRender1_195.jpg: 640x640 1 gate, 11.8ms\n",
      "image 19/186 /Users/michalkozicki/yolo-trained/drone-vision/datasets/images/val/gateRender1_198.jpg: 640x640 1 gate, 12.0ms\n",
      "image 20/186 /Users/michalkozicki/yolo-trained/drone-vision/datasets/images/val/gateRender1_2.jpg: 640x640 1 gate, 11.7ms\n",
      "image 21/186 /Users/michalkozicki/yolo-trained/drone-vision/datasets/images/val/gateRender1_202.jpg: 640x640 1 gate, 14.5ms\n",
      "image 22/186 /Users/michalkozicki/yolo-trained/drone-vision/datasets/images/val/gateRender1_205.jpg: 640x640 1 gate, 14.0ms\n",
      "image 23/186 /Users/michalkozicki/yolo-trained/drone-vision/datasets/images/val/gateRender1_208.jpg: 640x640 1 gate, 15.0ms\n",
      "image 24/186 /Users/michalkozicki/yolo-trained/drone-vision/datasets/images/val/gateRender1_21.jpg: 640x640 1 gate, 15.9ms\n",
      "image 25/186 /Users/michalkozicki/yolo-trained/drone-vision/datasets/images/val/gateRender1_212.jpg: 640x640 1 gate, 18.6ms\n",
      "image 26/186 /Users/michalkozicki/yolo-trained/drone-vision/datasets/images/val/gateRender1_221.jpg: 640x640 1 gate, 18.9ms\n",
      "image 27/186 /Users/michalkozicki/yolo-trained/drone-vision/datasets/images/val/gateRender1_224.jpg: 640x640 1 gate, 19.0ms\n",
      "image 28/186 /Users/michalkozicki/yolo-trained/drone-vision/datasets/images/val/gateRender1_227.jpg: 640x640 1 gate, 18.7ms\n",
      "image 29/186 /Users/michalkozicki/yolo-trained/drone-vision/datasets/images/val/gateRender1_228.jpg: 640x640 1 gate, 11.3ms\n",
      "image 30/186 /Users/michalkozicki/yolo-trained/drone-vision/datasets/images/val/gateRender1_23.jpg: 640x640 (no detections), 11.8ms\n",
      "image 31/186 /Users/michalkozicki/yolo-trained/drone-vision/datasets/images/val/gateRender1_230.jpg: 640x640 1 gate, 11.9ms\n",
      "image 32/186 /Users/michalkozicki/yolo-trained/drone-vision/datasets/images/val/gateRender1_234.jpg: 640x640 1 gate, 12.3ms\n",
      "image 33/186 /Users/michalkozicki/yolo-trained/drone-vision/datasets/images/val/gateRender1_246.jpg: 640x640 1 gate, 12.1ms\n",
      "image 34/186 /Users/michalkozicki/yolo-trained/drone-vision/datasets/images/val/gateRender1_257.jpg: 640x640 1 gate, 13.7ms\n",
      "image 35/186 /Users/michalkozicki/yolo-trained/drone-vision/datasets/images/val/gateRender1_258.jpg: 640x640 1 gate, 14.1ms\n",
      "image 36/186 /Users/michalkozicki/yolo-trained/drone-vision/datasets/images/val/gateRender1_265.jpg: 640x640 1 gate, 17.2ms\n",
      "image 37/186 /Users/michalkozicki/yolo-trained/drone-vision/datasets/images/val/gateRender1_275.jpg: 640x640 1 gate, 16.1ms\n",
      "image 38/186 /Users/michalkozicki/yolo-trained/drone-vision/datasets/images/val/gateRender1_279.jpg: 640x640 1 gate, 16.3ms\n",
      "image 39/186 /Users/michalkozicki/yolo-trained/drone-vision/datasets/images/val/gateRender1_282.jpg: 640x640 1 gate, 19.2ms\n",
      "image 40/186 /Users/michalkozicki/yolo-trained/drone-vision/datasets/images/val/gateRender1_283.jpg: 640x640 1 gate, 18.8ms\n",
      "image 41/186 /Users/michalkozicki/yolo-trained/drone-vision/datasets/images/val/gateRender1_284.jpg: 640x640 1 gate, 18.9ms\n",
      "image 42/186 /Users/michalkozicki/yolo-trained/drone-vision/datasets/images/val/gateRender1_297.jpg: 640x640 1 gate, 18.6ms\n",
      "image 43/186 /Users/michalkozicki/yolo-trained/drone-vision/datasets/images/val/gateRender1_305.jpg: 640x640 1 gate, 18.8ms\n",
      "image 44/186 /Users/michalkozicki/yolo-trained/drone-vision/datasets/images/val/gateRender1_308.jpg: 640x640 1 gate, 18.6ms\n",
      "image 45/186 /Users/michalkozicki/yolo-trained/drone-vision/datasets/images/val/gateRender1_309.jpg: 640x640 1 gate, 18.7ms\n",
      "image 46/186 /Users/michalkozicki/yolo-trained/drone-vision/datasets/images/val/gateRender1_31.jpg: 640x640 1 gate, 11.8ms\n",
      "image 47/186 /Users/michalkozicki/yolo-trained/drone-vision/datasets/images/val/gateRender1_315.jpg: 640x640 1 gate, 11.9ms\n",
      "image 48/186 /Users/michalkozicki/yolo-trained/drone-vision/datasets/images/val/gateRender1_318.jpg: 640x640 2 gates, 12.2ms\n",
      "image 49/186 /Users/michalkozicki/yolo-trained/drone-vision/datasets/images/val/gateRender1_32.jpg: 640x640 1 gate, 14.7ms\n",
      "image 50/186 /Users/michalkozicki/yolo-trained/drone-vision/datasets/images/val/gateRender1_322.jpg: 640x640 1 gate, 18.4ms\n",
      "image 51/186 /Users/michalkozicki/yolo-trained/drone-vision/datasets/images/val/gateRender1_327.jpg: 640x640 1 gate, 11.6ms\n",
      "image 52/186 /Users/michalkozicki/yolo-trained/drone-vision/datasets/images/val/gateRender1_329.jpg: 640x640 1 gate, 12.0ms\n",
      "image 53/186 /Users/michalkozicki/yolo-trained/drone-vision/datasets/images/val/gateRender1_335.jpg: 640x640 1 gate, 11.3ms\n",
      "image 54/186 /Users/michalkozicki/yolo-trained/drone-vision/datasets/images/val/gateRender1_340.jpg: 640x640 1 gate, 11.2ms\n",
      "image 55/186 /Users/michalkozicki/yolo-trained/drone-vision/datasets/images/val/gateRender1_342.jpg: 640x640 1 gate, 13.0ms\n",
      "image 56/186 /Users/michalkozicki/yolo-trained/drone-vision/datasets/images/val/gateRender1_344.jpg: 640x640 1 gate, 13.9ms\n",
      "image 57/186 /Users/michalkozicki/yolo-trained/drone-vision/datasets/images/val/gateRender1_352.jpg: 640x640 1 gate, 13.3ms\n",
      "image 58/186 /Users/michalkozicki/yolo-trained/drone-vision/datasets/images/val/gateRender1_355.jpg: 640x640 1 gate, 16.1ms\n",
      "image 59/186 /Users/michalkozicki/yolo-trained/drone-vision/datasets/images/val/gateRender1_356.jpg: 640x640 1 gate, 18.6ms\n",
      "image 60/186 /Users/michalkozicki/yolo-trained/drone-vision/datasets/images/val/gateRender1_370.jpg: 640x640 1 gate, 11.7ms\n",
      "image 61/186 /Users/michalkozicki/yolo-trained/drone-vision/datasets/images/val/gateRender1_377.jpg: 640x640 1 gate, 12.0ms\n",
      "image 62/186 /Users/michalkozicki/yolo-trained/drone-vision/datasets/images/val/gateRender1_38.jpg: 640x640 1 gate, 11.7ms\n",
      "image 63/186 /Users/michalkozicki/yolo-trained/drone-vision/datasets/images/val/gateRender1_387.jpg: 640x640 1 gate, 11.4ms\n",
      "image 64/186 /Users/michalkozicki/yolo-trained/drone-vision/datasets/images/val/gateRender1_388.jpg: 640x640 1 gate, 13.3ms\n",
      "image 65/186 /Users/michalkozicki/yolo-trained/drone-vision/datasets/images/val/gateRender1_389.jpg: 640x640 1 gate, 13.2ms\n",
      "image 66/186 /Users/michalkozicki/yolo-trained/drone-vision/datasets/images/val/gateRender1_392.jpg: 640x640 1 gate, 13.9ms\n",
      "image 67/186 /Users/michalkozicki/yolo-trained/drone-vision/datasets/images/val/gateRender1_396.jpg: 640x640 1 gate, 15.9ms\n",
      "image 68/186 /Users/michalkozicki/yolo-trained/drone-vision/datasets/images/val/gateRender1_399.jpg: 640x640 1 gate, 19.0ms\n",
      "image 69/186 /Users/michalkozicki/yolo-trained/drone-vision/datasets/images/val/gateRender1_40.jpg: 640x640 1 gate, 19.3ms\n",
      "image 70/186 /Users/michalkozicki/yolo-trained/drone-vision/datasets/images/val/gateRender1_401.jpg: 640x640 1 gate, 19.3ms\n",
      "image 71/186 /Users/michalkozicki/yolo-trained/drone-vision/datasets/images/val/gateRender1_402.jpg: 640x640 1 gate, 19.8ms\n",
      "image 72/186 /Users/michalkozicki/yolo-trained/drone-vision/datasets/images/val/gateRender1_406.jpg: 640x640 1 gate, 19.2ms\n",
      "image 73/186 /Users/michalkozicki/yolo-trained/drone-vision/datasets/images/val/gateRender1_407.jpg: 640x640 1 gate, 19.4ms\n",
      "image 74/186 /Users/michalkozicki/yolo-trained/drone-vision/datasets/images/val/gateRender1_411.jpg: 640x640 1 gate, 12.5ms\n",
      "image 75/186 /Users/michalkozicki/yolo-trained/drone-vision/datasets/images/val/gateRender1_415.jpg: 640x640 1 gate, 12.1ms\n",
      "image 76/186 /Users/michalkozicki/yolo-trained/drone-vision/datasets/images/val/gateRender1_418.jpg: 640x640 1 gate, 12.0ms\n",
      "image 77/186 /Users/michalkozicki/yolo-trained/drone-vision/datasets/images/val/gateRender1_420.jpg: 640x640 1 gate, 11.6ms\n",
      "image 78/186 /Users/michalkozicki/yolo-trained/drone-vision/datasets/images/val/gateRender1_43.jpg: 640x640 1 gate, 13.5ms\n",
      "image 79/186 /Users/michalkozicki/yolo-trained/drone-vision/datasets/images/val/gateRender1_436.jpg: 640x640 1 gate, 13.6ms\n",
      "image 80/186 /Users/michalkozicki/yolo-trained/drone-vision/datasets/images/val/gateRender1_437.jpg: 640x640 1 gate, 15.1ms\n",
      "image 81/186 /Users/michalkozicki/yolo-trained/drone-vision/datasets/images/val/gateRender1_440.jpg: 640x640 1 gate, 16.0ms\n",
      "image 82/186 /Users/michalkozicki/yolo-trained/drone-vision/datasets/images/val/gateRender1_442.jpg: 640x640 1 gate, 18.8ms\n",
      "image 83/186 /Users/michalkozicki/yolo-trained/drone-vision/datasets/images/val/gateRender1_444.jpg: 640x640 (no detections), 19.4ms\n",
      "image 84/186 /Users/michalkozicki/yolo-trained/drone-vision/datasets/images/val/gateRender1_453.jpg: 640x640 1 gate, 19.1ms\n",
      "image 85/186 /Users/michalkozicki/yolo-trained/drone-vision/datasets/images/val/gateRender1_456.jpg: 640x640 1 gate, 11.8ms\n",
      "image 86/186 /Users/michalkozicki/yolo-trained/drone-vision/datasets/images/val/gateRender1_458.jpg: 640x640 1 gate, 12.3ms\n",
      "image 87/186 /Users/michalkozicki/yolo-trained/drone-vision/datasets/images/val/gateRender1_460.jpg: 640x640 1 gate, 11.7ms\n",
      "image 88/186 /Users/michalkozicki/yolo-trained/drone-vision/datasets/images/val/gateRender1_461.jpg: 640x640 1 gate, 11.5ms\n",
      "image 89/186 /Users/michalkozicki/yolo-trained/drone-vision/datasets/images/val/gateRender1_465.jpg: 640x640 1 gate, 13.6ms\n",
      "image 90/186 /Users/michalkozicki/yolo-trained/drone-vision/datasets/images/val/gateRender1_466.jpg: 640x640 1 gate, 12.9ms\n",
      "image 91/186 /Users/michalkozicki/yolo-trained/drone-vision/datasets/images/val/gateRender1_472.jpg: 640x640 1 gate, 15.1ms\n",
      "image 92/186 /Users/michalkozicki/yolo-trained/drone-vision/datasets/images/val/gateRender1_475.jpg: 640x640 1 gate, 14.2ms\n",
      "image 93/186 /Users/michalkozicki/yolo-trained/drone-vision/datasets/images/val/gateRender1_480.jpg: 640x640 1 gate, 16.3ms\n",
      "image 94/186 /Users/michalkozicki/yolo-trained/drone-vision/datasets/images/val/gateRender1_484.jpg: 640x640 1 gate, 18.6ms\n",
      "image 95/186 /Users/michalkozicki/yolo-trained/drone-vision/datasets/images/val/gateRender1_493.jpg: 640x640 1 gate, 12.3ms\n",
      "image 96/186 /Users/michalkozicki/yolo-trained/drone-vision/datasets/images/val/gateRender1_522.jpg: 640x640 1 gate, 11.7ms\n",
      "image 97/186 /Users/michalkozicki/yolo-trained/drone-vision/datasets/images/val/gateRender1_524.jpg: 640x640 1 gate, 12.5ms\n",
      "image 98/186 /Users/michalkozicki/yolo-trained/drone-vision/datasets/images/val/gateRender1_53.jpg: 640x640 1 gate, 11.7ms\n",
      "image 99/186 /Users/michalkozicki/yolo-trained/drone-vision/datasets/images/val/gateRender1_533.jpg: 640x640 1 gate, 13.9ms\n",
      "image 100/186 /Users/michalkozicki/yolo-trained/drone-vision/datasets/images/val/gateRender1_536.jpg: 640x640 1 gate, 12.3ms\n",
      "image 101/186 /Users/michalkozicki/yolo-trained/drone-vision/datasets/images/val/gateRender1_538.jpg: 640x640 1 gate, 15.5ms\n",
      "image 102/186 /Users/michalkozicki/yolo-trained/drone-vision/datasets/images/val/gateRender1_548.jpg: 640x640 1 gate, 18.4ms\n",
      "image 103/186 /Users/michalkozicki/yolo-trained/drone-vision/datasets/images/val/gateRender1_556.jpg: 640x640 1 gate, 18.5ms\n",
      "image 104/186 /Users/michalkozicki/yolo-trained/drone-vision/datasets/images/val/gateRender1_557.jpg: 640x640 1 gate, 18.7ms\n",
      "image 105/186 /Users/michalkozicki/yolo-trained/drone-vision/datasets/images/val/gateRender1_562.jpg: 640x640 1 gate, 11.3ms\n",
      "image 106/186 /Users/michalkozicki/yolo-trained/drone-vision/datasets/images/val/gateRender1_567.jpg: 640x640 1 gate, 11.6ms\n",
      "image 107/186 /Users/michalkozicki/yolo-trained/drone-vision/datasets/images/val/gateRender1_572.jpg: 640x640 1 gate, 12.1ms\n",
      "image 108/186 /Users/michalkozicki/yolo-trained/drone-vision/datasets/images/val/gateRender1_587.jpg: 640x640 1 gate, 12.6ms\n",
      "image 109/186 /Users/michalkozicki/yolo-trained/drone-vision/datasets/images/val/gateRender1_588.jpg: 640x640 1 gate, 12.9ms\n",
      "image 110/186 /Users/michalkozicki/yolo-trained/drone-vision/datasets/images/val/gateRender1_59.jpg: 640x640 1 gate, 14.3ms\n",
      "image 111/186 /Users/michalkozicki/yolo-trained/drone-vision/datasets/images/val/gateRender1_602.jpg: 640x640 1 gate, 12.5ms\n",
      "image 112/186 /Users/michalkozicki/yolo-trained/drone-vision/datasets/images/val/gateRender1_607.jpg: 640x640 1 gate, 14.4ms\n",
      "image 113/186 /Users/michalkozicki/yolo-trained/drone-vision/datasets/images/val/gateRender1_613.jpg: 640x640 1 gate, 12.6ms\n",
      "image 114/186 /Users/michalkozicki/yolo-trained/drone-vision/datasets/images/val/gateRender1_621.jpg: 640x640 1 gate, 14.2ms\n",
      "image 115/186 /Users/michalkozicki/yolo-trained/drone-vision/datasets/images/val/gateRender1_631.jpg: 640x640 1 gate, 14.8ms\n",
      "image 116/186 /Users/michalkozicki/yolo-trained/drone-vision/datasets/images/val/gateRender1_632.jpg: 640x640 1 gate, 17.0ms\n",
      "image 117/186 /Users/michalkozicki/yolo-trained/drone-vision/datasets/images/val/gateRender1_641.jpg: 640x640 1 gate, 18.2ms\n",
      "image 118/186 /Users/michalkozicki/yolo-trained/drone-vision/datasets/images/val/gateRender1_643.jpg: 640x640 1 gate, 11.3ms\n",
      "image 119/186 /Users/michalkozicki/yolo-trained/drone-vision/datasets/images/val/gateRender1_654.jpg: 640x640 1 gate, 11.9ms\n",
      "image 120/186 /Users/michalkozicki/yolo-trained/drone-vision/datasets/images/val/gateRender1_655.jpg: 640x640 1 gate, 12.2ms\n",
      "image 121/186 /Users/michalkozicki/yolo-trained/drone-vision/datasets/images/val/gateRender1_658.jpg: 640x640 1 gate, 11.6ms\n",
      "image 122/186 /Users/michalkozicki/yolo-trained/drone-vision/datasets/images/val/gateRender1_661.jpg: 640x640 1 gate, 13.5ms\n",
      "image 123/186 /Users/michalkozicki/yolo-trained/drone-vision/datasets/images/val/gateRender1_662.jpg: 640x640 1 gate, 13.6ms\n",
      "image 124/186 /Users/michalkozicki/yolo-trained/drone-vision/datasets/images/val/gateRender1_664.jpg: 640x640 1 gate, 13.4ms\n",
      "image 125/186 /Users/michalkozicki/yolo-trained/drone-vision/datasets/images/val/gateRender1_668.jpg: 640x640 1 gate, 16.7ms\n",
      "image 126/186 /Users/michalkozicki/yolo-trained/drone-vision/datasets/images/val/gateRender1_682.jpg: 640x640 1 gate, 18.7ms\n",
      "image 127/186 /Users/michalkozicki/yolo-trained/drone-vision/datasets/images/val/gateRender1_689.jpg: 640x640 1 gate, 11.5ms\n",
      "image 128/186 /Users/michalkozicki/yolo-trained/drone-vision/datasets/images/val/gateRender1_699.jpg: 640x640 1 gate, 11.9ms\n",
      "image 129/186 /Users/michalkozicki/yolo-trained/drone-vision/datasets/images/val/gateRender1_702.jpg: 640x640 1 gate, 11.6ms\n",
      "image 130/186 /Users/michalkozicki/yolo-trained/drone-vision/datasets/images/val/gateRender1_714.jpg: 640x640 1 gate, 11.5ms\n",
      "image 131/186 /Users/michalkozicki/yolo-trained/drone-vision/datasets/images/val/gateRender1_716.jpg: 640x640 1 gate, 12.6ms\n",
      "image 132/186 /Users/michalkozicki/yolo-trained/drone-vision/datasets/images/val/gateRender1_723.jpg: 640x640 1 gate, 14.1ms\n",
      "image 133/186 /Users/michalkozicki/yolo-trained/drone-vision/datasets/images/val/gateRender1_730.jpg: 640x640 1 gate, 13.0ms\n",
      "image 134/186 /Users/michalkozicki/yolo-trained/drone-vision/datasets/images/val/gateRender1_731.jpg: 640x640 1 gate, 14.7ms\n",
      "image 135/186 /Users/michalkozicki/yolo-trained/drone-vision/datasets/images/val/gateRender1_733.jpg: 640x640 1 gate, 13.4ms\n",
      "image 136/186 /Users/michalkozicki/yolo-trained/drone-vision/datasets/images/val/gateRender1_742.jpg: 640x640 1 gate, 15.6ms\n",
      "image 137/186 /Users/michalkozicki/yolo-trained/drone-vision/datasets/images/val/gateRender1_746.jpg: 640x640 1 gate, 12.8ms\n",
      "image 138/186 /Users/michalkozicki/yolo-trained/drone-vision/datasets/images/val/gateRender1_75.jpg: 640x640 1 gate, 14.7ms\n",
      "image 139/186 /Users/michalkozicki/yolo-trained/drone-vision/datasets/images/val/gateRender1_759.jpg: 640x640 2 gates, 14.2ms\n",
      "image 140/186 /Users/michalkozicki/yolo-trained/drone-vision/datasets/images/val/gateRender1_763.jpg: 640x640 1 gate, 18.6ms\n",
      "image 141/186 /Users/michalkozicki/yolo-trained/drone-vision/datasets/images/val/gateRender1_765.jpg: 640x640 1 gate, 11.3ms\n",
      "image 142/186 /Users/michalkozicki/yolo-trained/drone-vision/datasets/images/val/gateRender1_767.jpg: 640x640 1 gate, 11.7ms\n",
      "image 143/186 /Users/michalkozicki/yolo-trained/drone-vision/datasets/images/val/gateRender1_771.jpg: 640x640 1 gate, 11.9ms\n",
      "image 144/186 /Users/michalkozicki/yolo-trained/drone-vision/datasets/images/val/gateRender1_78.jpg: 640x640 1 gate, 11.8ms\n",
      "image 145/186 /Users/michalkozicki/yolo-trained/drone-vision/datasets/images/val/gateRender1_783.jpg: 640x640 1 gate, 13.5ms\n",
      "image 146/186 /Users/michalkozicki/yolo-trained/drone-vision/datasets/images/val/gateRender1_789.jpg: 640x640 1 gate, 13.9ms\n",
      "image 147/186 /Users/michalkozicki/yolo-trained/drone-vision/datasets/images/val/gateRender1_790.jpg: 640x640 1 gate, 14.1ms\n",
      "image 148/186 /Users/michalkozicki/yolo-trained/drone-vision/datasets/images/val/gateRender1_792.jpg: 640x640 1 gate, 16.8ms\n",
      "image 149/186 /Users/michalkozicki/yolo-trained/drone-vision/datasets/images/val/gateRender1_799.jpg: 640x640 1 gate, 19.0ms\n",
      "image 150/186 /Users/michalkozicki/yolo-trained/drone-vision/datasets/images/val/gateRender1_801.jpg: 640x640 1 gate, 11.9ms\n",
      "image 151/186 /Users/michalkozicki/yolo-trained/drone-vision/datasets/images/val/gateRender1_802.jpg: 640x640 1 gate, 11.9ms\n",
      "image 152/186 /Users/michalkozicki/yolo-trained/drone-vision/datasets/images/val/gateRender1_807.jpg: 640x640 1 gate, 12.3ms\n",
      "image 153/186 /Users/michalkozicki/yolo-trained/drone-vision/datasets/images/val/gateRender1_811.jpg: 640x640 1 gate, 11.7ms\n",
      "image 154/186 /Users/michalkozicki/yolo-trained/drone-vision/datasets/images/val/gateRender1_821.jpg: 640x640 1 gate, 13.2ms\n",
      "image 155/186 /Users/michalkozicki/yolo-trained/drone-vision/datasets/images/val/gateRender1_822.jpg: 640x640 1 gate, 13.5ms\n",
      "image 156/186 /Users/michalkozicki/yolo-trained/drone-vision/datasets/images/val/gateRender1_825.jpg: 640x640 1 gate, 17.0ms\n",
      "image 157/186 /Users/michalkozicki/yolo-trained/drone-vision/datasets/images/val/gateRender1_828.jpg: 640x640 1 gate, 16.5ms\n",
      "image 158/186 /Users/michalkozicki/yolo-trained/drone-vision/datasets/images/val/gateRender1_831.jpg: 640x640 1 gate, 18.7ms\n",
      "image 159/186 /Users/michalkozicki/yolo-trained/drone-vision/datasets/images/val/gateRender1_833.jpg: 640x640 1 gate, 19.0ms\n",
      "image 160/186 /Users/michalkozicki/yolo-trained/drone-vision/datasets/images/val/gateRender1_837.jpg: 640x640 1 gate, 11.7ms\n",
      "image 161/186 /Users/michalkozicki/yolo-trained/drone-vision/datasets/images/val/gateRender1_840.jpg: 640x640 1 gate, 11.5ms\n",
      "image 162/186 /Users/michalkozicki/yolo-trained/drone-vision/datasets/images/val/gateRender1_842.jpg: 640x640 1 gate, 12.2ms\n",
      "image 163/186 /Users/michalkozicki/yolo-trained/drone-vision/datasets/images/val/gateRender1_845.jpg: 640x640 1 gate, 11.7ms\n",
      "image 164/186 /Users/michalkozicki/yolo-trained/drone-vision/datasets/images/val/gateRender1_846.jpg: 640x640 1 gate, 12.9ms\n",
      "image 165/186 /Users/michalkozicki/yolo-trained/drone-vision/datasets/images/val/gateRender1_854.jpg: 640x640 1 gate, 14.0ms\n",
      "image 166/186 /Users/michalkozicki/yolo-trained/drone-vision/datasets/images/val/gateRender1_864.jpg: 640x640 1 gate, 14.0ms\n",
      "image 167/186 /Users/michalkozicki/yolo-trained/drone-vision/datasets/images/val/gateRender1_866.jpg: 640x640 1 gate, 17.1ms\n",
      "image 168/186 /Users/michalkozicki/yolo-trained/drone-vision/datasets/images/val/gateRender1_87.jpg: 640x640 1 gate, 18.9ms\n",
      "image 169/186 /Users/michalkozicki/yolo-trained/drone-vision/datasets/images/val/gateRender1_873.jpg: 640x640 1 gate, 11.4ms\n",
      "image 170/186 /Users/michalkozicki/yolo-trained/drone-vision/datasets/images/val/gateRender1_875.jpg: 640x640 1 gate, 11.7ms\n",
      "image 171/186 /Users/michalkozicki/yolo-trained/drone-vision/datasets/images/val/gateRender1_877.jpg: 640x640 1 gate, 12.0ms\n",
      "image 172/186 /Users/michalkozicki/yolo-trained/drone-vision/datasets/images/val/gateRender1_88.jpg: 640x640 1 gate, 11.7ms\n",
      "image 173/186 /Users/michalkozicki/yolo-trained/drone-vision/datasets/images/val/gateRender1_881.jpg: 640x640 1 gate, 13.9ms\n",
      "image 174/186 /Users/michalkozicki/yolo-trained/drone-vision/datasets/images/val/gateRender1_887.jpg: 640x640 1 gate, 13.1ms\n",
      "image 175/186 /Users/michalkozicki/yolo-trained/drone-vision/datasets/images/val/gateRender1_896.jpg: 640x640 1 gate, 15.3ms\n",
      "image 176/186 /Users/michalkozicki/yolo-trained/drone-vision/datasets/images/val/gateRender1_897.jpg: 640x640 1 gate, 13.1ms\n",
      "image 177/186 /Users/michalkozicki/yolo-trained/drone-vision/datasets/images/val/gateRender1_903.jpg: 640x640 1 gate, 14.7ms\n",
      "image 178/186 /Users/michalkozicki/yolo-trained/drone-vision/datasets/images/val/gateRender1_908.jpg: 640x640 1 gate, 13.3ms\n",
      "image 179/186 /Users/michalkozicki/yolo-trained/drone-vision/datasets/images/val/gateRender1_91.jpg: 640x640 1 gate, 14.9ms\n",
      "image 180/186 /Users/michalkozicki/yolo-trained/drone-vision/datasets/images/val/gateRender1_911.jpg: 640x640 1 gate, 18.1ms\n",
      "image 181/186 /Users/michalkozicki/yolo-trained/drone-vision/datasets/images/val/gateRender1_912.jpg: 640x640 1 gate, 16.8ms\n",
      "image 182/186 /Users/michalkozicki/yolo-trained/drone-vision/datasets/images/val/gateRender1_914.jpg: 640x640 1 gate, 15.3ms\n",
      "image 183/186 /Users/michalkozicki/yolo-trained/drone-vision/datasets/images/val/gateRender1_92.jpg: 640x640 1 gate, 15.0ms\n",
      "image 184/186 /Users/michalkozicki/yolo-trained/drone-vision/datasets/images/val/gateRender1_96.jpg: 640x640 1 gate, 16.9ms\n",
      "image 185/186 /Users/michalkozicki/yolo-trained/drone-vision/datasets/images/val/gateRender1_97.jpg: 640x640 1 gate, 14.7ms\n",
      "image 186/186 /Users/michalkozicki/yolo-trained/drone-vision/datasets/images/val/gateRender1_99.jpg: 640x640 1 gate, 14.8ms\n",
      "Speed: 1.0ms preprocess, 14.4ms inference, 8.1ms postprocess per image at shape (1, 3, 640, 640)\n"
     ]
    }
   ],
   "execution_count": 4
  },
  {
   "metadata": {
    "ExecuteTime": {
     "end_time": "2024-11-04T09:42:13.238909Z",
     "start_time": "2024-11-04T09:42:13.234705Z"
    }
   },
   "cell_type": "code",
   "source": [
    "reference_path = \"./res/gate_ref.jpg\"\n",
    "ref_gray = cv.cvtColor(cv.imread(reference_path), cv.COLOR_BGR2GRAY)"
   ],
   "outputs": [],
   "execution_count": 5
  },
  {
   "metadata": {
    "ExecuteTime": {
     "end_time": "2024-11-04T09:42:13.247428Z",
     "start_time": "2024-11-04T09:42:13.244803Z"
    }
   },
   "cell_type": "code",
   "source": [
    "import math\n",
    "def rotationMatrixToEulerAngles(R):\n",
    "    sy = math.sqrt(R[0, 0] * R[0, 0] + R[1, 0] * R[1, 0])\n",
    "\n",
    "    singular = sy < 1e-6\n",
    "\n",
    "    if not singular:\n",
    "        x = math.atan2(R[2, 1], R[2, 2])\n",
    "        y = math.atan2(-R[2, 0], sy)\n",
    "        z = math.atan2(R[1, 0], R[0, 0])\n",
    "    else:\n",
    "        x = math.atan2(-R[1, 2], R[1, 1])\n",
    "        y = math.atan2(-R[2, 0], sy)\n",
    "        z = 0\n",
    "\n",
    "    return np.array([x, y, z])\n",
    "\n"
   ],
   "outputs": [],
   "execution_count": 6
  },
  {
   "metadata": {
    "ExecuteTime": {
     "end_time": "2024-11-04T09:42:13.461496Z",
     "start_time": "2024-11-04T09:42:13.253763Z"
    }
   },
   "cell_type": "code",
   "source": [
    "\n",
    "cv.imwrite('./res/gate_Front.jpg', cv.imread('./res/Gate teksture_A2RL X DCL-2.png'), [int(cv.IMWRITE_JPEG_QUALITY), 95]) \n",
    "cv.imwrite('./res/gate_Back.jpg', cv.imread('./res/Gate teksture_A2RL X DCL-2_mirror.png'), [int(cv.IMWRITE_JPEG_QUALITY), 95]) "
   ],
   "outputs": [
    {
     "name": "stderr",
     "output_type": "stream",
     "text": [
      "libpng warning: iCCP: known incorrect sRGB profile\n"
     ]
    },
    {
     "data": {
      "text/plain": [
       "True"
      ]
     },
     "execution_count": 7,
     "metadata": {},
     "output_type": "execute_result"
    }
   ],
   "execution_count": 7
  },
  {
   "metadata": {
    "ExecuteTime": {
     "end_time": "2024-11-04T09:42:15.121586Z",
     "start_time": "2024-11-04T09:42:13.583750Z"
    }
   },
   "cell_type": "code",
   "source": [
    "# Load the texture images /Users/michalkozicki/yolo-trained/res/Gate teksture_A2RL X DCL-2.png\n",
    "\n",
    "texture_front = cv.imread('./res/gate_Front.jpg', cv.IMREAD_GRAYSCALE)\n",
    "\n",
    "# Initialize a feature detector (e.g., SIFT)\n",
    "sift = cv.SIFT_create()\n",
    "\n",
    "# Detect keypoints and compute descriptors for the front texture\n",
    "keypoints_ref_texture, descriptors_ref_texture = sift.detectAndCompute(texture_front, None)\n"
   ],
   "outputs": [],
   "execution_count": 8
  },
  {
   "metadata": {
    "ExecuteTime": {
     "end_time": "2024-11-04T09:42:15.153160Z",
     "start_time": "2024-11-04T09:42:15.149102Z"
    }
   },
   "cell_type": "code",
   "source": [
    "#LOADING REFERENCE FROM 3D model\n",
    "key_points_3d = []\n",
    "with open('./res/3d_points.txt', 'r') as f:\n",
    "    for line in f:\n",
    "        x, y, z = map(float, line.strip().split())\n",
    "        key_points_3d.append([x, y, z])\n",
    "\n",
    "key_points_3d = np.array(key_points_3d, dtype=np.float32)"
   ],
   "outputs": [],
   "execution_count": 10
  },
  {
   "cell_type": "code",
   "metadata": {
    "ExecuteTime": {
     "end_time": "2024-11-04T09:44:32.195012Z",
     "start_time": "2024-11-04T09:44:29.585937Z"
    }
   },
   "source": [
    "#program runs for all results\n",
    "angles=[]\n",
    "for result in results:\n",
    "    path = result.path\n",
    "    if result.boxes.xyxy.shape[0] == 0:\n",
    "        print(f\"No bounding box found for image {path}\")\n",
    "        continue\n",
    "    #IMAGE PREPROCESSING\n",
    "    x_1, y_1, x_2, y_2 = map(int, result.boxes.xyxy[:,:4][0]) #getting xyxy values for bounding box\n",
    "    image_path=path\n",
    "    gray_image = cv.cvtColor(cv.imread(image_path), cv.COLOR_BGR2GRAY) #converting to grayscale\n",
    "    if gray_image is None:\n",
    "        print(f\"Error: Could not read image at {image_path}\")\n",
    "        continue\n",
    "    \n",
    "    cropped_image = gray_image[y_1:y_2, x_1:x_2] #cropping to bounding box\n",
    "    \n",
    "    \n",
    "    #ANALYSIS OF IMAGE\n",
    "    sift = cv.SIFT_create() #extracting keypoints from the image being processed\n",
    "    keypoints_photo, descriptors_photo = sift.detectAndCompute(cropped_image, None)\n",
    "    #assuming you have texture\n",
    "    bf = cv.BFMatcher()\n",
    "    \n",
    "    if descriptors_photo is None:\n",
    "        print(\"No descriptors found in the reference texture.\")\n",
    "        continue\n",
    "    if descriptors_ref_texture.dtype != np.float32:\n",
    "        descriptors_ref_texture = descriptors_ref_texture.astype(np.float32)    \n",
    "    matches = bf.knnMatch(descriptors_ref_texture, descriptors_photo, k=2) #using the already determined keypoints and descriptors for reference photo\n",
    "    \n",
    "    good_matches = []\n",
    "    for m, n in matches:\n",
    "        if m.distance < 0.8 * n.distance:\n",
    "            good_matches.append(m)\n",
    "    object_points = np.float32([key_points_3d[m.queryIdx] for m in good_matches if m.queryIdx < len(key_points_3d)])\n",
    "    image_points = np.float32([keypoints_photo[m.trainIdx].pt for m in good_matches if m.queryIdx < len(key_points_3d)])\n",
    "    #TBD the camera config\n",
    "    fx = fy =550\n",
    "    cx = 1640\n",
    "    cy = 1232\n",
    "    camera_matrix = np.array([[fx, 0, cx],\n",
    "                              [0, fy, cy],\n",
    "                              [0,  0,  1]], dtype=np.float64)\n",
    "\n",
    "    dist_coeffs = np.zeros((4,1))  #distortion coefficients for camera, rn unknown\n",
    "    \n",
    "    #CALCULATING ROTATION\n",
    "    success, rotation_vector, translation_vector = cv.solvePnP(\n",
    "    object_points,\n",
    "    image_points,\n",
    "    camera_matrix,\n",
    "    dist_coeffs,\n",
    "    flags=cv.SOLVEPNP_ITERATIVE\n",
    "    )\n",
    "    rotation_matrix, _ = cv.Rodrigues(rotation_vector)\n",
    "    #TRANSLATING TO RPY\n",
    "    euler_angles = rotationMatrixToEulerAngles(rotation_matrix)\n",
    "    pitch, yaw, roll = np.degrees(euler_angles)\n",
    "    angles.append((result, (pitch, yaw, roll)))"
   ],
   "outputs": [
    {
     "name": "stdout",
     "output_type": "stream",
     "text": [
      "No descriptors found in the reference texture.\n",
      "No bounding box found for image /Users/michalkozicki/yolo-trained/drone-vision/datasets/images/val/gateRender1_23.jpg\n",
      "No bounding box found for image /Users/michalkozicki/yolo-trained/drone-vision/datasets/images/val/gateRender1_444.jpg\n"
     ]
    }
   ],
   "execution_count": 18
  },
  {
   "cell_type": "code",
   "metadata": {
    "ExecuteTime": {
     "end_time": "2024-11-04T09:45:10.237515Z",
     "start_time": "2024-11-04T09:45:09.745696Z"
    }
   },
   "source": [
    "angles[10][0].show()\n",
    "print(angles[10][1])"
   ],
   "outputs": [
    {
     "name": "stdout",
     "output_type": "stream",
     "text": [
      "(139.89744347167058, -40.054426466521576, -174.6469854129691)\n"
     ]
    }
   ],
   "execution_count": 19
  },
  {
   "metadata": {
    "ExecuteTime": {
     "end_time": "2024-11-04T09:42:17.704697Z",
     "start_time": "2024-11-04T09:42:17.703369Z"
    }
   },
   "cell_type": "code",
   "source": "",
   "outputs": [],
   "execution_count": null
  }
 ],
 "metadata": {
  "kernelspec": {
   "display_name": "Python 3",
   "language": "python",
   "name": "python3"
  },
  "language_info": {
   "codemirror_mode": {
    "name": "ipython",
    "version": 3
   },
   "file_extension": ".py",
   "mimetype": "text/x-python",
   "name": "python",
   "nbconvert_exporter": "python",
   "pygments_lexer": "ipython3",
   "version": "3.10.15"
  }
 },
 "nbformat": 4,
 "nbformat_minor": 2
}
