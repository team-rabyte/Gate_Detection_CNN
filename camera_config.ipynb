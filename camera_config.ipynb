{
 "cells": [
  {
   "metadata": {
    "ExecuteTime": {
     "end_time": "2024-11-06T12:12:31.160780Z",
     "start_time": "2024-11-06T12:12:30.524297Z"
    }
   },
   "cell_type": "code",
   "source": [
    "import cv2\n",
    "import numpy as np\n",
    "import glob"
   ],
   "id": "7730cc50a0457be2",
   "outputs": [],
   "execution_count": 1
  },
  {
   "cell_type": "code",
   "id": "initial_id",
   "metadata": {
    "collapsed": true,
    "ExecuteTime": {
     "end_time": "2024-11-06T12:12:31.176136Z",
     "start_time": "2024-11-06T12:12:31.172137Z"
    }
   },
   "source": [
    "dim = 20 #mm\n",
    "ratio = (8,5) #chessboard x,y\n",
    "path = \"./res/files_camera_calib\"\n",
    "\n",
    "object_points = np.zeros((ratio[0] * ratio[1], 3), np.float32)\n",
    "object_points[:, :2] = np.mgrid[0:ratio[0], 0:ratio[1]].T.reshape(-1, 2)\n",
    "object_points *= dim\n",
    "\n",
    "objpoints = []  \n",
    "imgpoints = []  \n",
    "\n",
    "images = glob.glob(path + \"/*.jpg\")"
   ],
   "outputs": [],
   "execution_count": 2
  },
  {
   "metadata": {
    "ExecuteTime": {
     "end_time": "2024-11-06T12:12:34.463224Z",
     "start_time": "2024-11-06T12:12:31.179707Z"
    }
   },
   "cell_type": "code",
   "source": [
    "for im in images:\n",
    "    img =  cv2.cvtColor(cv2.imread(im),cv2.COLOR_BGR2GRAY) \n",
    "    cv2.imshow('img', img)\n",
    "    cv2.waitKey(100)\n",
    "    cv2.destroyAllWindows()"
   ],
   "id": "b650528dd7917f1b",
   "outputs": [],
   "execution_count": 3
  },
  {
   "metadata": {
    "ExecuteTime": {
     "end_time": "2024-11-06T12:12:37.424659Z",
     "start_time": "2024-11-06T12:12:34.588713Z"
    }
   },
   "cell_type": "code",
   "source": [
    "for fname in images:\n",
    "    img = cv2.cvtColor(cv2.imread(fname),cv2.COLOR_BGR2GRAY) \n",
    "    ret, corners = cv2.findChessboardCorners(img, ratio, cv2.CALIB_CB_ADAPTIVE_THRESH + cv2.CALIB_CB_FAST_CHECK)\n",
    "    print(ret)\n",
    "    if ret:\n",
    "        corners_refined = cv2.cornerSubPix(img,corners,(11, 11), (-1,-1),criteria=(cv2.TERM_CRITERIA_EPS + cv2.TERM_CRITERIA_MAX_ITER, 30, 0.001))\n",
    "        imgpoints.append(corners_refined)\n",
    "        objpoints.append(object_points)\n",
    "        cv2.drawChessboardCorners(img, ratio, corners_refined, ret)\n",
    "        cv2.imshow('Chessboard Corners', img)\n",
    "        cv2.waitKey(100)\n",
    "        "
   ],
   "id": "728100b7ab71b355",
   "outputs": [
    {
     "name": "stdout",
     "output_type": "stream",
     "text": [
      "True\n",
      "True\n",
      "True\n",
      "True\n",
      "True\n",
      "True\n",
      "True\n",
      "True\n",
      "True\n",
      "True\n",
      "True\n",
      "True\n",
      "True\n",
      "True\n",
      "False\n",
      "True\n",
      "True\n",
      "True\n",
      "True\n",
      "True\n",
      "True\n",
      "True\n",
      "True\n",
      "True\n",
      "True\n",
      "True\n"
     ]
    }
   ],
   "execution_count": 4
  },
  {
   "metadata": {
    "ExecuteTime": {
     "end_time": "2024-11-06T12:13:05.863050Z",
     "start_time": "2024-11-06T12:13:05.822239Z"
    }
   },
   "cell_type": "code",
   "source": [
    "ret, camera_matrix, dist_coeffs, rvecs, tvecs = cv2.calibrateCamera(objpoints, imgpoints, img.shape[::-1], None, None)\n",
    "print(dist_coeffs)"
   ],
   "id": "ad0981d75174a4ea",
   "outputs": [
    {
     "ename": "error",
     "evalue": "OpenCV(4.10.0) :-1: error: (-5:Bad argument) in function 'calibrateCamera'\n> Overload resolution failed:\n>  - Can't parse 'imageSize'. Expected sequence length 2, got 3\n>  - Can't parse 'imageSize'. Expected sequence length 2, got 3\n",
     "output_type": "error",
     "traceback": [
      "\u001B[0;31m---------------------------------------------------------------------------\u001B[0m",
      "\u001B[0;31merror\u001B[0m                                     Traceback (most recent call last)",
      "Cell \u001B[0;32mIn[12], line 1\u001B[0m\n\u001B[0;32m----> 1\u001B[0m ret, camera_matrix, dist_coeffs, rvecs, tvecs \u001B[38;5;241m=\u001B[39m \u001B[43mcv2\u001B[49m\u001B[38;5;241;43m.\u001B[39;49m\u001B[43mcalibrateCamera\u001B[49m\u001B[43m(\u001B[49m\u001B[43mobjpoints\u001B[49m\u001B[43m,\u001B[49m\u001B[43m \u001B[49m\u001B[43mimgpoints\u001B[49m\u001B[43m,\u001B[49m\u001B[43m \u001B[49m\u001B[43mimg\u001B[49m\u001B[38;5;241;43m.\u001B[39;49m\u001B[43mshape\u001B[49m\u001B[43m[\u001B[49m\u001B[43m:\u001B[49m\u001B[43m:\u001B[49m\u001B[38;5;241;43m-\u001B[39;49m\u001B[38;5;241;43m1\u001B[39;49m\u001B[43m]\u001B[49m\u001B[43m,\u001B[49m\u001B[43m \u001B[49m\u001B[38;5;28;43;01mNone\u001B[39;49;00m\u001B[43m,\u001B[49m\u001B[43m \u001B[49m\u001B[38;5;28;43;01mNone\u001B[39;49;00m\u001B[43m)\u001B[49m\n\u001B[1;32m      2\u001B[0m \u001B[38;5;28mprint\u001B[39m(dist_coeffs)\n",
      "\u001B[0;31merror\u001B[0m: OpenCV(4.10.0) :-1: error: (-5:Bad argument) in function 'calibrateCamera'\n> Overload resolution failed:\n>  - Can't parse 'imageSize'. Expected sequence length 2, got 3\n>  - Can't parse 'imageSize'. Expected sequence length 2, got 3\n"
     ]
    }
   ],
   "execution_count": 12
  },
  {
   "metadata": {
    "ExecuteTime": {
     "end_time": "2024-11-06T12:12:37.666834Z",
     "start_time": "2024-11-06T12:12:37.663711Z"
    }
   },
   "cell_type": "code",
   "source": "print(np.array([[279.35,0,311.76],[0,371.99,240.00],[0,0,1]],np.float64))",
   "id": "df117d9303369d2f",
   "outputs": [
    {
     "name": "stdout",
     "output_type": "stream",
     "text": [
      "[[279.35   0.   311.76]\n",
      " [  0.   371.99 240.  ]\n",
      " [  0.     0.     1.  ]]\n"
     ]
    }
   ],
   "execution_count": 6
  },
  {
   "metadata": {
    "ExecuteTime": {
     "end_time": "2024-11-06T12:12:37.806432Z",
     "start_time": "2024-11-06T12:12:37.765861Z"
    }
   },
   "cell_type": "code",
   "source": [
    "import time\n",
    "for im in glob.glob(path + \"/val/*.jpg\"):\n",
    "    img = cv2.imread(im)\n",
    "    h, w = img.shape[:2]\n",
    "    new_camera_matrix, roi = cv2.getOptimalNewCameraMatrix(camera_matrix, dist_coeffs, (w, h), 1, (w, h))\n",
    "    \n",
    "    # Undistort image\n",
    "    undistorted_img = cv2.undistort(img, camera_matrix, dist_coeffs, None, new_camera_matrix)\n",
    "    \n",
    "    # Crop the image to the region of interest\n",
    "    x, y, w, h = roi\n",
    "    undistorted_img = undistorted_img[y:y+h, x:x+w]\n",
    "    cv2.imshow('Undistorted Image', undistorted_img)\n",
    "   "
   ],
   "id": "165ef13eeb2b36c5",
   "outputs": [],
   "execution_count": 7
  },
  {
   "metadata": {
    "ExecuteTime": {
     "end_time": "2024-11-06T12:12:39.819728Z",
     "start_time": "2024-11-06T12:12:37.814886Z"
    }
   },
   "cell_type": "code",
   "source": [
    "cv2.destroyAllWindows()\n",
    "time.sleep(2)"
   ],
   "id": "36dc0979e6923667",
   "outputs": [],
   "execution_count": 8
  },
  {
   "metadata": {
    "ExecuteTime": {
     "end_time": "2024-11-06T12:13:50.498699Z",
     "start_time": "2024-11-06T12:13:50.483Z"
    }
   },
   "cell_type": "code",
   "source": "",
   "id": "e2c2ebec9becabf9",
   "outputs": [
    {
     "name": "stdout",
     "output_type": "stream",
     "text": [
      "[[286.98062406   0.         311.41898239]\n",
      " [  0.         382.1315285  241.78807416]\n",
      " [  0.           0.           1.        ]]\n"
     ]
    }
   ],
   "execution_count": 15
  },
  {
   "metadata": {},
   "cell_type": "code",
   "outputs": [],
   "execution_count": null,
   "source": "",
   "id": "50bf5aea837c4790"
  }
 ],
 "metadata": {
  "kernelspec": {
   "display_name": "Python 3",
   "language": "python",
   "name": "python3"
  },
  "language_info": {
   "codemirror_mode": {
    "name": "ipython",
    "version": 2
   },
   "file_extension": ".py",
   "mimetype": "text/x-python",
   "name": "python",
   "nbconvert_exporter": "python",
   "pygments_lexer": "ipython2",
   "version": "2.7.6"
  }
 },
 "nbformat": 4,
 "nbformat_minor": 5
}
