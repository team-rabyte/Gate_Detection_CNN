{
 "cells": [
  {
   "cell_type": "code",
   "metadata": {
    "ExecuteTime": {
     "end_time": "2024-11-06T12:17:55.656717Z",
     "start_time": "2024-11-06T12:17:53.440191Z"
    }
   },
   "source": [
    "from ultralytics import YOLO\n",
    "import torch, torchvision\n",
    "import cv2 as cv\n",
    "import numpy as np"
   ],
   "outputs": [],
   "execution_count": 1
  },
  {
   "cell_type": "code",
   "metadata": {
    "ExecuteTime": {
     "end_time": "2024-11-06T12:17:58.962367Z",
     "start_time": "2024-11-06T12:17:55.663464Z"
    }
   },
   "source": [
    "\n",
    "# Load the weights directly\n",
    "model = YOLO('./train/weights/best.pt')\n",
    "\n",
    "results = model('./gateRender1_903.jpg',device='mps')\n"
   ],
   "outputs": [
    {
     "name": "stdout",
     "output_type": "stream",
     "text": [
      "\n",
      "image 1/1 /Users/michalkozicki/yolo-trained/gateRender1_903.jpg: 640x640 1 gate, 19.6ms\n",
      "Speed: 22.9ms preprocess, 19.6ms inference, 998.7ms postprocess per image at shape (1, 3, 640, 640)\n"
     ]
    }
   ],
   "execution_count": 2
  },
  {
   "cell_type": "code",
   "metadata": {
    "ExecuteTime": {
     "end_time": "2024-11-06T12:18:04.908529Z",
     "start_time": "2024-11-06T12:17:59.051630Z"
    }
   },
   "source": [
    "import pathlib\n",
    "import time\n",
    "val_src = pathlib.Path('/Users/michalkozicki/yolo-trained/drone-vision/datasets/images/val')\n",
    "times = []\n",
    "results = model(val_src)\n",
    "\n"
   ],
   "outputs": [
    {
     "name": "stdout",
     "output_type": "stream",
     "text": [
      "\n",
      "image 1/186 /Users/michalkozicki/yolo-trained/drone-vision/datasets/images/val/gateRender1_1.jpg: 640x640 1 gate, 19.3ms\n",
      "image 2/186 /Users/michalkozicki/yolo-trained/drone-vision/datasets/images/val/gateRender1_101.jpg: 640x640 1 gate, 11.2ms\n",
      "image 3/186 /Users/michalkozicki/yolo-trained/drone-vision/datasets/images/val/gateRender1_115.jpg: 640x640 1 gate, 14.3ms\n",
      "image 4/186 /Users/michalkozicki/yolo-trained/drone-vision/datasets/images/val/gateRender1_126.jpg: 640x640 1 gate, 14.4ms\n",
      "image 5/186 /Users/michalkozicki/yolo-trained/drone-vision/datasets/images/val/gateRender1_132.jpg: 640x640 1 gate, 16.3ms\n",
      "image 6/186 /Users/michalkozicki/yolo-trained/drone-vision/datasets/images/val/gateRender1_135.jpg: 640x640 1 gate, 20.2ms\n",
      "image 7/186 /Users/michalkozicki/yolo-trained/drone-vision/datasets/images/val/gateRender1_137.jpg: 640x640 1 gate, 21.0ms\n",
      "image 8/186 /Users/michalkozicki/yolo-trained/drone-vision/datasets/images/val/gateRender1_14.jpg: 640x640 1 gate, 13.3ms\n",
      "image 9/186 /Users/michalkozicki/yolo-trained/drone-vision/datasets/images/val/gateRender1_156.jpg: 640x640 1 gate, 13.7ms\n",
      "image 10/186 /Users/michalkozicki/yolo-trained/drone-vision/datasets/images/val/gateRender1_157.jpg: 640x640 1 gate, 15.3ms\n",
      "image 11/186 /Users/michalkozicki/yolo-trained/drone-vision/datasets/images/val/gateRender1_16.jpg: 640x640 1 gate, 14.3ms\n",
      "image 12/186 /Users/michalkozicki/yolo-trained/drone-vision/datasets/images/val/gateRender1_160.jpg: 640x640 1 gate, 14.8ms\n",
      "image 13/186 /Users/michalkozicki/yolo-trained/drone-vision/datasets/images/val/gateRender1_166.jpg: 640x640 1 gate, 19.4ms\n",
      "image 14/186 /Users/michalkozicki/yolo-trained/drone-vision/datasets/images/val/gateRender1_167.jpg: 640x640 1 gate, 13.6ms\n",
      "image 15/186 /Users/michalkozicki/yolo-trained/drone-vision/datasets/images/val/gateRender1_176.jpg: 640x640 1 gate, 12.9ms\n",
      "image 16/186 /Users/michalkozicki/yolo-trained/drone-vision/datasets/images/val/gateRender1_183.jpg: 640x640 1 gate, 13.5ms\n",
      "image 17/186 /Users/michalkozicki/yolo-trained/drone-vision/datasets/images/val/gateRender1_187.jpg: 640x640 1 gate, 13.3ms\n",
      "image 18/186 /Users/michalkozicki/yolo-trained/drone-vision/datasets/images/val/gateRender1_195.jpg: 640x640 1 gate, 14.1ms\n",
      "image 19/186 /Users/michalkozicki/yolo-trained/drone-vision/datasets/images/val/gateRender1_198.jpg: 640x640 1 gate, 14.7ms\n",
      "image 20/186 /Users/michalkozicki/yolo-trained/drone-vision/datasets/images/val/gateRender1_2.jpg: 640x640 1 gate, 16.7ms\n",
      "image 21/186 /Users/michalkozicki/yolo-trained/drone-vision/datasets/images/val/gateRender1_202.jpg: 640x640 1 gate, 19.0ms\n",
      "image 22/186 /Users/michalkozicki/yolo-trained/drone-vision/datasets/images/val/gateRender1_205.jpg: 640x640 1 gate, 20.6ms\n",
      "image 23/186 /Users/michalkozicki/yolo-trained/drone-vision/datasets/images/val/gateRender1_208.jpg: 640x640 1 gate, 13.4ms\n",
      "image 24/186 /Users/michalkozicki/yolo-trained/drone-vision/datasets/images/val/gateRender1_21.jpg: 640x640 1 gate, 12.7ms\n",
      "image 25/186 /Users/michalkozicki/yolo-trained/drone-vision/datasets/images/val/gateRender1_212.jpg: 640x640 1 gate, 13.0ms\n",
      "image 26/186 /Users/michalkozicki/yolo-trained/drone-vision/datasets/images/val/gateRender1_221.jpg: 640x640 1 gate, 13.7ms\n",
      "image 27/186 /Users/michalkozicki/yolo-trained/drone-vision/datasets/images/val/gateRender1_224.jpg: 640x640 1 gate, 14.2ms\n",
      "image 28/186 /Users/michalkozicki/yolo-trained/drone-vision/datasets/images/val/gateRender1_227.jpg: 640x640 1 gate, 18.3ms\n",
      "image 29/186 /Users/michalkozicki/yolo-trained/drone-vision/datasets/images/val/gateRender1_228.jpg: 640x640 1 gate, 19.3ms\n",
      "image 30/186 /Users/michalkozicki/yolo-trained/drone-vision/datasets/images/val/gateRender1_23.jpg: 640x640 (no detections), 12.4ms\n",
      "image 31/186 /Users/michalkozicki/yolo-trained/drone-vision/datasets/images/val/gateRender1_230.jpg: 640x640 1 gate, 12.7ms\n",
      "image 32/186 /Users/michalkozicki/yolo-trained/drone-vision/datasets/images/val/gateRender1_234.jpg: 640x640 1 gate, 13.6ms\n",
      "image 33/186 /Users/michalkozicki/yolo-trained/drone-vision/datasets/images/val/gateRender1_246.jpg: 640x640 1 gate, 12.8ms\n",
      "image 34/186 /Users/michalkozicki/yolo-trained/drone-vision/datasets/images/val/gateRender1_257.jpg: 640x640 1 gate, 14.0ms\n",
      "image 35/186 /Users/michalkozicki/yolo-trained/drone-vision/datasets/images/val/gateRender1_258.jpg: 640x640 1 gate, 13.7ms\n",
      "image 36/186 /Users/michalkozicki/yolo-trained/drone-vision/datasets/images/val/gateRender1_265.jpg: 640x640 1 gate, 15.9ms\n",
      "image 37/186 /Users/michalkozicki/yolo-trained/drone-vision/datasets/images/val/gateRender1_275.jpg: 640x640 1 gate, 17.5ms\n",
      "image 38/186 /Users/michalkozicki/yolo-trained/drone-vision/datasets/images/val/gateRender1_279.jpg: 640x640 1 gate, 18.2ms\n",
      "image 39/186 /Users/michalkozicki/yolo-trained/drone-vision/datasets/images/val/gateRender1_282.jpg: 640x640 1 gate, 17.8ms\n",
      "image 40/186 /Users/michalkozicki/yolo-trained/drone-vision/datasets/images/val/gateRender1_283.jpg: 640x640 1 gate, 19.3ms\n",
      "image 41/186 /Users/michalkozicki/yolo-trained/drone-vision/datasets/images/val/gateRender1_284.jpg: 640x640 1 gate, 13.2ms\n",
      "image 42/186 /Users/michalkozicki/yolo-trained/drone-vision/datasets/images/val/gateRender1_297.jpg: 640x640 1 gate, 12.5ms\n",
      "image 43/186 /Users/michalkozicki/yolo-trained/drone-vision/datasets/images/val/gateRender1_305.jpg: 640x640 1 gate, 13.2ms\n",
      "image 44/186 /Users/michalkozicki/yolo-trained/drone-vision/datasets/images/val/gateRender1_308.jpg: 640x640 1 gate, 13.2ms\n",
      "image 45/186 /Users/michalkozicki/yolo-trained/drone-vision/datasets/images/val/gateRender1_309.jpg: 640x640 1 gate, 16.1ms\n",
      "image 46/186 /Users/michalkozicki/yolo-trained/drone-vision/datasets/images/val/gateRender1_31.jpg: 640x640 1 gate, 16.0ms\n",
      "image 47/186 /Users/michalkozicki/yolo-trained/drone-vision/datasets/images/val/gateRender1_315.jpg: 640x640 1 gate, 17.5ms\n",
      "image 48/186 /Users/michalkozicki/yolo-trained/drone-vision/datasets/images/val/gateRender1_318.jpg: 640x640 2 gates, 18.1ms\n",
      "image 49/186 /Users/michalkozicki/yolo-trained/drone-vision/datasets/images/val/gateRender1_32.jpg: 640x640 1 gate, 20.0ms\n",
      "image 50/186 /Users/michalkozicki/yolo-trained/drone-vision/datasets/images/val/gateRender1_322.jpg: 640x640 1 gate, 12.4ms\n",
      "image 51/186 /Users/michalkozicki/yolo-trained/drone-vision/datasets/images/val/gateRender1_327.jpg: 640x640 1 gate, 12.4ms\n",
      "image 52/186 /Users/michalkozicki/yolo-trained/drone-vision/datasets/images/val/gateRender1_329.jpg: 640x640 1 gate, 12.6ms\n",
      "image 53/186 /Users/michalkozicki/yolo-trained/drone-vision/datasets/images/val/gateRender1_335.jpg: 640x640 1 gate, 14.2ms\n",
      "image 54/186 /Users/michalkozicki/yolo-trained/drone-vision/datasets/images/val/gateRender1_340.jpg: 640x640 1 gate, 12.2ms\n",
      "image 55/186 /Users/michalkozicki/yolo-trained/drone-vision/datasets/images/val/gateRender1_342.jpg: 640x640 1 gate, 13.1ms\n",
      "image 56/186 /Users/michalkozicki/yolo-trained/drone-vision/datasets/images/val/gateRender1_344.jpg: 640x640 1 gate, 12.7ms\n",
      "image 57/186 /Users/michalkozicki/yolo-trained/drone-vision/datasets/images/val/gateRender1_352.jpg: 640x640 1 gate, 13.0ms\n",
      "image 58/186 /Users/michalkozicki/yolo-trained/drone-vision/datasets/images/val/gateRender1_355.jpg: 640x640 1 gate, 14.3ms\n",
      "image 59/186 /Users/michalkozicki/yolo-trained/drone-vision/datasets/images/val/gateRender1_356.jpg: 640x640 1 gate, 14.7ms\n",
      "image 60/186 /Users/michalkozicki/yolo-trained/drone-vision/datasets/images/val/gateRender1_370.jpg: 640x640 1 gate, 15.4ms\n",
      "image 61/186 /Users/michalkozicki/yolo-trained/drone-vision/datasets/images/val/gateRender1_377.jpg: 640x640 1 gate, 19.0ms\n",
      "image 62/186 /Users/michalkozicki/yolo-trained/drone-vision/datasets/images/val/gateRender1_38.jpg: 640x640 1 gate, 19.6ms\n",
      "image 63/186 /Users/michalkozicki/yolo-trained/drone-vision/datasets/images/val/gateRender1_387.jpg: 640x640 1 gate, 19.7ms\n",
      "image 64/186 /Users/michalkozicki/yolo-trained/drone-vision/datasets/images/val/gateRender1_388.jpg: 640x640 1 gate, 19.9ms\n",
      "image 65/186 /Users/michalkozicki/yolo-trained/drone-vision/datasets/images/val/gateRender1_389.jpg: 640x640 1 gate, 12.1ms\n",
      "image 66/186 /Users/michalkozicki/yolo-trained/drone-vision/datasets/images/val/gateRender1_392.jpg: 640x640 1 gate, 12.8ms\n",
      "image 67/186 /Users/michalkozicki/yolo-trained/drone-vision/datasets/images/val/gateRender1_396.jpg: 640x640 1 gate, 12.3ms\n",
      "image 68/186 /Users/michalkozicki/yolo-trained/drone-vision/datasets/images/val/gateRender1_399.jpg: 640x640 1 gate, 13.1ms\n",
      "image 69/186 /Users/michalkozicki/yolo-trained/drone-vision/datasets/images/val/gateRender1_40.jpg: 640x640 1 gate, 13.1ms\n",
      "image 70/186 /Users/michalkozicki/yolo-trained/drone-vision/datasets/images/val/gateRender1_401.jpg: 640x640 1 gate, 15.1ms\n",
      "image 71/186 /Users/michalkozicki/yolo-trained/drone-vision/datasets/images/val/gateRender1_402.jpg: 640x640 1 gate, 16.8ms\n",
      "image 72/186 /Users/michalkozicki/yolo-trained/drone-vision/datasets/images/val/gateRender1_406.jpg: 640x640 1 gate, 18.9ms\n",
      "image 73/186 /Users/michalkozicki/yolo-trained/drone-vision/datasets/images/val/gateRender1_407.jpg: 640x640 1 gate, 12.2ms\n",
      "image 74/186 /Users/michalkozicki/yolo-trained/drone-vision/datasets/images/val/gateRender1_411.jpg: 640x640 1 gate, 12.9ms\n",
      "image 75/186 /Users/michalkozicki/yolo-trained/drone-vision/datasets/images/val/gateRender1_415.jpg: 640x640 1 gate, 12.9ms\n",
      "image 76/186 /Users/michalkozicki/yolo-trained/drone-vision/datasets/images/val/gateRender1_418.jpg: 640x640 1 gate, 12.9ms\n",
      "image 77/186 /Users/michalkozicki/yolo-trained/drone-vision/datasets/images/val/gateRender1_420.jpg: 640x640 1 gate, 14.1ms\n",
      "image 78/186 /Users/michalkozicki/yolo-trained/drone-vision/datasets/images/val/gateRender1_43.jpg: 640x640 1 gate, 15.9ms\n",
      "image 79/186 /Users/michalkozicki/yolo-trained/drone-vision/datasets/images/val/gateRender1_436.jpg: 640x640 1 gate, 15.9ms\n",
      "image 80/186 /Users/michalkozicki/yolo-trained/drone-vision/datasets/images/val/gateRender1_437.jpg: 640x640 1 gate, 19.7ms\n",
      "image 81/186 /Users/michalkozicki/yolo-trained/drone-vision/datasets/images/val/gateRender1_440.jpg: 640x640 1 gate, 20.4ms\n",
      "image 82/186 /Users/michalkozicki/yolo-trained/drone-vision/datasets/images/val/gateRender1_442.jpg: 640x640 1 gate, 12.7ms\n",
      "image 83/186 /Users/michalkozicki/yolo-trained/drone-vision/datasets/images/val/gateRender1_444.jpg: 640x640 (no detections), 13.2ms\n",
      "image 84/186 /Users/michalkozicki/yolo-trained/drone-vision/datasets/images/val/gateRender1_453.jpg: 640x640 1 gate, 13.1ms\n",
      "image 85/186 /Users/michalkozicki/yolo-trained/drone-vision/datasets/images/val/gateRender1_456.jpg: 640x640 1 gate, 12.7ms\n",
      "image 86/186 /Users/michalkozicki/yolo-trained/drone-vision/datasets/images/val/gateRender1_458.jpg: 640x640 1 gate, 12.9ms\n",
      "image 87/186 /Users/michalkozicki/yolo-trained/drone-vision/datasets/images/val/gateRender1_460.jpg: 640x640 1 gate, 13.7ms\n",
      "image 88/186 /Users/michalkozicki/yolo-trained/drone-vision/datasets/images/val/gateRender1_461.jpg: 640x640 1 gate, 14.5ms\n",
      "image 89/186 /Users/michalkozicki/yolo-trained/drone-vision/datasets/images/val/gateRender1_465.jpg: 640x640 1 gate, 15.5ms\n",
      "image 90/186 /Users/michalkozicki/yolo-trained/drone-vision/datasets/images/val/gateRender1_466.jpg: 640x640 1 gate, 19.6ms\n",
      "image 91/186 /Users/michalkozicki/yolo-trained/drone-vision/datasets/images/val/gateRender1_472.jpg: 640x640 1 gate, 19.9ms\n",
      "image 92/186 /Users/michalkozicki/yolo-trained/drone-vision/datasets/images/val/gateRender1_475.jpg: 640x640 1 gate, 20.5ms\n",
      "image 93/186 /Users/michalkozicki/yolo-trained/drone-vision/datasets/images/val/gateRender1_480.jpg: 640x640 1 gate, 12.9ms\n",
      "image 94/186 /Users/michalkozicki/yolo-trained/drone-vision/datasets/images/val/gateRender1_484.jpg: 640x640 1 gate, 13.1ms\n",
      "image 95/186 /Users/michalkozicki/yolo-trained/drone-vision/datasets/images/val/gateRender1_493.jpg: 640x640 1 gate, 12.3ms\n",
      "image 96/186 /Users/michalkozicki/yolo-trained/drone-vision/datasets/images/val/gateRender1_522.jpg: 640x640 1 gate, 12.5ms\n",
      "image 97/186 /Users/michalkozicki/yolo-trained/drone-vision/datasets/images/val/gateRender1_524.jpg: 640x640 1 gate, 13.7ms\n",
      "image 98/186 /Users/michalkozicki/yolo-trained/drone-vision/datasets/images/val/gateRender1_53.jpg: 640x640 1 gate, 13.3ms\n",
      "image 99/186 /Users/michalkozicki/yolo-trained/drone-vision/datasets/images/val/gateRender1_533.jpg: 640x640 1 gate, 16.8ms\n",
      "image 100/186 /Users/michalkozicki/yolo-trained/drone-vision/datasets/images/val/gateRender1_536.jpg: 640x640 1 gate, 19.7ms\n",
      "image 101/186 /Users/michalkozicki/yolo-trained/drone-vision/datasets/images/val/gateRender1_538.jpg: 640x640 1 gate, 19.9ms\n",
      "image 102/186 /Users/michalkozicki/yolo-trained/drone-vision/datasets/images/val/gateRender1_548.jpg: 640x640 1 gate, 19.8ms\n",
      "image 103/186 /Users/michalkozicki/yolo-trained/drone-vision/datasets/images/val/gateRender1_556.jpg: 640x640 1 gate, 12.2ms\n",
      "image 104/186 /Users/michalkozicki/yolo-trained/drone-vision/datasets/images/val/gateRender1_557.jpg: 640x640 1 gate, 13.0ms\n",
      "image 105/186 /Users/michalkozicki/yolo-trained/drone-vision/datasets/images/val/gateRender1_562.jpg: 640x640 1 gate, 12.5ms\n",
      "image 106/186 /Users/michalkozicki/yolo-trained/drone-vision/datasets/images/val/gateRender1_567.jpg: 640x640 1 gate, 13.2ms\n",
      "image 107/186 /Users/michalkozicki/yolo-trained/drone-vision/datasets/images/val/gateRender1_572.jpg: 640x640 1 gate, 14.0ms\n",
      "image 108/186 /Users/michalkozicki/yolo-trained/drone-vision/datasets/images/val/gateRender1_587.jpg: 640x640 1 gate, 19.4ms\n",
      "image 109/186 /Users/michalkozicki/yolo-trained/drone-vision/datasets/images/val/gateRender1_588.jpg: 640x640 1 gate, 27.7ms\n",
      "image 110/186 /Users/michalkozicki/yolo-trained/drone-vision/datasets/images/val/gateRender1_59.jpg: 640x640 1 gate, 21.2ms\n",
      "image 111/186 /Users/michalkozicki/yolo-trained/drone-vision/datasets/images/val/gateRender1_602.jpg: 640x640 1 gate, 18.1ms\n",
      "image 112/186 /Users/michalkozicki/yolo-trained/drone-vision/datasets/images/val/gateRender1_607.jpg: 640x640 1 gate, 14.6ms\n",
      "image 113/186 /Users/michalkozicki/yolo-trained/drone-vision/datasets/images/val/gateRender1_613.jpg: 640x640 1 gate, 15.5ms\n",
      "image 114/186 /Users/michalkozicki/yolo-trained/drone-vision/datasets/images/val/gateRender1_621.jpg: 640x640 1 gate, 15.8ms\n",
      "image 115/186 /Users/michalkozicki/yolo-trained/drone-vision/datasets/images/val/gateRender1_631.jpg: 640x640 1 gate, 19.3ms\n",
      "image 116/186 /Users/michalkozicki/yolo-trained/drone-vision/datasets/images/val/gateRender1_632.jpg: 640x640 1 gate, 20.1ms\n",
      "image 117/186 /Users/michalkozicki/yolo-trained/drone-vision/datasets/images/val/gateRender1_641.jpg: 640x640 1 gate, 25.0ms\n",
      "image 118/186 /Users/michalkozicki/yolo-trained/drone-vision/datasets/images/val/gateRender1_643.jpg: 640x640 1 gate, 22.3ms\n",
      "image 119/186 /Users/michalkozicki/yolo-trained/drone-vision/datasets/images/val/gateRender1_654.jpg: 640x640 1 gate, 14.9ms\n",
      "image 120/186 /Users/michalkozicki/yolo-trained/drone-vision/datasets/images/val/gateRender1_655.jpg: 640x640 1 gate, 15.7ms\n",
      "image 121/186 /Users/michalkozicki/yolo-trained/drone-vision/datasets/images/val/gateRender1_658.jpg: 640x640 1 gate, 18.6ms\n",
      "image 122/186 /Users/michalkozicki/yolo-trained/drone-vision/datasets/images/val/gateRender1_661.jpg: 640x640 1 gate, 17.9ms\n",
      "image 123/186 /Users/michalkozicki/yolo-trained/drone-vision/datasets/images/val/gateRender1_662.jpg: 640x640 1 gate, 14.5ms\n",
      "image 124/186 /Users/michalkozicki/yolo-trained/drone-vision/datasets/images/val/gateRender1_664.jpg: 640x640 1 gate, 14.9ms\n",
      "image 125/186 /Users/michalkozicki/yolo-trained/drone-vision/datasets/images/val/gateRender1_668.jpg: 640x640 1 gate, 16.0ms\n",
      "image 126/186 /Users/michalkozicki/yolo-trained/drone-vision/datasets/images/val/gateRender1_682.jpg: 640x640 1 gate, 16.4ms\n",
      "image 127/186 /Users/michalkozicki/yolo-trained/drone-vision/datasets/images/val/gateRender1_689.jpg: 640x640 1 gate, 15.5ms\n",
      "image 128/186 /Users/michalkozicki/yolo-trained/drone-vision/datasets/images/val/gateRender1_699.jpg: 640x640 1 gate, 13.6ms\n",
      "image 129/186 /Users/michalkozicki/yolo-trained/drone-vision/datasets/images/val/gateRender1_702.jpg: 640x640 1 gate, 13.8ms\n",
      "image 130/186 /Users/michalkozicki/yolo-trained/drone-vision/datasets/images/val/gateRender1_714.jpg: 640x640 1 gate, 13.3ms\n",
      "image 131/186 /Users/michalkozicki/yolo-trained/drone-vision/datasets/images/val/gateRender1_716.jpg: 640x640 1 gate, 14.5ms\n",
      "image 132/186 /Users/michalkozicki/yolo-trained/drone-vision/datasets/images/val/gateRender1_723.jpg: 640x640 1 gate, 13.7ms\n",
      "image 133/186 /Users/michalkozicki/yolo-trained/drone-vision/datasets/images/val/gateRender1_730.jpg: 640x640 1 gate, 15.7ms\n",
      "image 134/186 /Users/michalkozicki/yolo-trained/drone-vision/datasets/images/val/gateRender1_731.jpg: 640x640 1 gate, 13.4ms\n",
      "image 135/186 /Users/michalkozicki/yolo-trained/drone-vision/datasets/images/val/gateRender1_733.jpg: 640x640 1 gate, 13.6ms\n",
      "image 136/186 /Users/michalkozicki/yolo-trained/drone-vision/datasets/images/val/gateRender1_742.jpg: 640x640 1 gate, 14.5ms\n",
      "image 137/186 /Users/michalkozicki/yolo-trained/drone-vision/datasets/images/val/gateRender1_746.jpg: 640x640 1 gate, 13.6ms\n",
      "image 138/186 /Users/michalkozicki/yolo-trained/drone-vision/datasets/images/val/gateRender1_75.jpg: 640x640 1 gate, 15.3ms\n",
      "image 139/186 /Users/michalkozicki/yolo-trained/drone-vision/datasets/images/val/gateRender1_759.jpg: 640x640 2 gates, 13.0ms\n",
      "image 140/186 /Users/michalkozicki/yolo-trained/drone-vision/datasets/images/val/gateRender1_763.jpg: 640x640 1 gate, 13.7ms\n",
      "image 141/186 /Users/michalkozicki/yolo-trained/drone-vision/datasets/images/val/gateRender1_765.jpg: 640x640 1 gate, 13.6ms\n",
      "image 142/186 /Users/michalkozicki/yolo-trained/drone-vision/datasets/images/val/gateRender1_767.jpg: 640x640 1 gate, 13.7ms\n",
      "image 143/186 /Users/michalkozicki/yolo-trained/drone-vision/datasets/images/val/gateRender1_771.jpg: 640x640 1 gate, 15.4ms\n",
      "image 144/186 /Users/michalkozicki/yolo-trained/drone-vision/datasets/images/val/gateRender1_78.jpg: 640x640 1 gate, 14.2ms\n",
      "image 145/186 /Users/michalkozicki/yolo-trained/drone-vision/datasets/images/val/gateRender1_783.jpg: 640x640 1 gate, 15.5ms\n",
      "image 146/186 /Users/michalkozicki/yolo-trained/drone-vision/datasets/images/val/gateRender1_789.jpg: 640x640 1 gate, 17.3ms\n",
      "image 147/186 /Users/michalkozicki/yolo-trained/drone-vision/datasets/images/val/gateRender1_790.jpg: 640x640 1 gate, 14.6ms\n",
      "image 148/186 /Users/michalkozicki/yolo-trained/drone-vision/datasets/images/val/gateRender1_792.jpg: 640x640 1 gate, 14.5ms\n",
      "image 149/186 /Users/michalkozicki/yolo-trained/drone-vision/datasets/images/val/gateRender1_799.jpg: 640x640 1 gate, 15.7ms\n",
      "image 150/186 /Users/michalkozicki/yolo-trained/drone-vision/datasets/images/val/gateRender1_801.jpg: 640x640 1 gate, 15.3ms\n",
      "image 151/186 /Users/michalkozicki/yolo-trained/drone-vision/datasets/images/val/gateRender1_802.jpg: 640x640 1 gate, 14.0ms\n",
      "image 152/186 /Users/michalkozicki/yolo-trained/drone-vision/datasets/images/val/gateRender1_807.jpg: 640x640 1 gate, 13.3ms\n",
      "image 153/186 /Users/michalkozicki/yolo-trained/drone-vision/datasets/images/val/gateRender1_811.jpg: 640x640 1 gate, 13.2ms\n",
      "image 154/186 /Users/michalkozicki/yolo-trained/drone-vision/datasets/images/val/gateRender1_821.jpg: 640x640 1 gate, 13.7ms\n",
      "image 155/186 /Users/michalkozicki/yolo-trained/drone-vision/datasets/images/val/gateRender1_822.jpg: 640x640 1 gate, 13.7ms\n",
      "image 156/186 /Users/michalkozicki/yolo-trained/drone-vision/datasets/images/val/gateRender1_825.jpg: 640x640 1 gate, 14.0ms\n",
      "image 157/186 /Users/michalkozicki/yolo-trained/drone-vision/datasets/images/val/gateRender1_828.jpg: 640x640 1 gate, 14.1ms\n",
      "image 158/186 /Users/michalkozicki/yolo-trained/drone-vision/datasets/images/val/gateRender1_831.jpg: 640x640 1 gate, 14.5ms\n",
      "image 159/186 /Users/michalkozicki/yolo-trained/drone-vision/datasets/images/val/gateRender1_833.jpg: 640x640 1 gate, 14.9ms\n",
      "image 160/186 /Users/michalkozicki/yolo-trained/drone-vision/datasets/images/val/gateRender1_837.jpg: 640x640 1 gate, 17.2ms\n",
      "image 161/186 /Users/michalkozicki/yolo-trained/drone-vision/datasets/images/val/gateRender1_840.jpg: 640x640 1 gate, 15.3ms\n",
      "image 162/186 /Users/michalkozicki/yolo-trained/drone-vision/datasets/images/val/gateRender1_842.jpg: 640x640 1 gate, 14.7ms\n",
      "image 163/186 /Users/michalkozicki/yolo-trained/drone-vision/datasets/images/val/gateRender1_845.jpg: 640x640 1 gate, 16.3ms\n",
      "image 164/186 /Users/michalkozicki/yolo-trained/drone-vision/datasets/images/val/gateRender1_846.jpg: 640x640 1 gate, 16.1ms\n",
      "image 165/186 /Users/michalkozicki/yolo-trained/drone-vision/datasets/images/val/gateRender1_854.jpg: 640x640 1 gate, 18.6ms\n",
      "image 166/186 /Users/michalkozicki/yolo-trained/drone-vision/datasets/images/val/gateRender1_864.jpg: 640x640 1 gate, 15.0ms\n",
      "image 167/186 /Users/michalkozicki/yolo-trained/drone-vision/datasets/images/val/gateRender1_866.jpg: 640x640 1 gate, 14.7ms\n",
      "image 168/186 /Users/michalkozicki/yolo-trained/drone-vision/datasets/images/val/gateRender1_87.jpg: 640x640 1 gate, 14.8ms\n",
      "image 169/186 /Users/michalkozicki/yolo-trained/drone-vision/datasets/images/val/gateRender1_873.jpg: 640x640 1 gate, 15.2ms\n",
      "image 170/186 /Users/michalkozicki/yolo-trained/drone-vision/datasets/images/val/gateRender1_875.jpg: 640x640 1 gate, 14.2ms\n",
      "image 171/186 /Users/michalkozicki/yolo-trained/drone-vision/datasets/images/val/gateRender1_877.jpg: 640x640 1 gate, 15.5ms\n",
      "image 172/186 /Users/michalkozicki/yolo-trained/drone-vision/datasets/images/val/gateRender1_88.jpg: 640x640 1 gate, 15.5ms\n",
      "image 173/186 /Users/michalkozicki/yolo-trained/drone-vision/datasets/images/val/gateRender1_881.jpg: 640x640 1 gate, 14.7ms\n",
      "image 174/186 /Users/michalkozicki/yolo-trained/drone-vision/datasets/images/val/gateRender1_887.jpg: 640x640 1 gate, 14.7ms\n",
      "image 175/186 /Users/michalkozicki/yolo-trained/drone-vision/datasets/images/val/gateRender1_896.jpg: 640x640 1 gate, 15.4ms\n",
      "image 176/186 /Users/michalkozicki/yolo-trained/drone-vision/datasets/images/val/gateRender1_897.jpg: 640x640 1 gate, 12.8ms\n",
      "image 177/186 /Users/michalkozicki/yolo-trained/drone-vision/datasets/images/val/gateRender1_903.jpg: 640x640 1 gate, 11.7ms\n",
      "image 178/186 /Users/michalkozicki/yolo-trained/drone-vision/datasets/images/val/gateRender1_908.jpg: 640x640 1 gate, 10.9ms\n",
      "image 179/186 /Users/michalkozicki/yolo-trained/drone-vision/datasets/images/val/gateRender1_91.jpg: 640x640 1 gate, 12.6ms\n",
      "image 180/186 /Users/michalkozicki/yolo-trained/drone-vision/datasets/images/val/gateRender1_911.jpg: 640x640 1 gate, 14.0ms\n",
      "image 181/186 /Users/michalkozicki/yolo-trained/drone-vision/datasets/images/val/gateRender1_912.jpg: 640x640 1 gate, 11.1ms\n",
      "image 182/186 /Users/michalkozicki/yolo-trained/drone-vision/datasets/images/val/gateRender1_914.jpg: 640x640 1 gate, 13.4ms\n",
      "image 183/186 /Users/michalkozicki/yolo-trained/drone-vision/datasets/images/val/gateRender1_92.jpg: 640x640 1 gate, 13.1ms\n",
      "image 184/186 /Users/michalkozicki/yolo-trained/drone-vision/datasets/images/val/gateRender1_96.jpg: 640x640 1 gate, 13.6ms\n",
      "image 185/186 /Users/michalkozicki/yolo-trained/drone-vision/datasets/images/val/gateRender1_97.jpg: 640x640 1 gate, 13.3ms\n",
      "image 186/186 /Users/michalkozicki/yolo-trained/drone-vision/datasets/images/val/gateRender1_99.jpg: 640x640 1 gate, 14.8ms\n",
      "Speed: 1.1ms preprocess, 15.2ms inference, 8.6ms postprocess per image at shape (1, 3, 640, 640)\n"
     ]
    }
   ],
   "execution_count": 3
  },
  {
   "metadata": {
    "ExecuteTime": {
     "end_time": "2024-11-06T12:18:04.922312Z",
     "start_time": "2024-11-06T12:18:04.918064Z"
    }
   },
   "cell_type": "code",
   "source": [
    "reference_path = \"./res/gate_ref.jpg\"\n",
    "ref_gray = cv.cvtColor(cv.imread(reference_path), cv.COLOR_BGR2GRAY)"
   ],
   "outputs": [],
   "execution_count": 4
  },
  {
   "metadata": {
    "ExecuteTime": {
     "end_time": "2024-11-06T12:18:04.937553Z",
     "start_time": "2024-11-06T12:18:04.934083Z"
    }
   },
   "cell_type": "code",
   "source": [
    "import math\n",
    "def rotationMatrixToEulerAngles(R):\n",
    "    sy = math.sqrt(R[0, 0] * R[0, 0] + R[1, 0] * R[1, 0])\n",
    "\n",
    "    singular = sy < 1e-6\n",
    "\n",
    "    if not singular:\n",
    "        x = math.atan2(R[2, 1], R[2, 2])\n",
    "        y = math.atan2(-R[2, 0], sy)\n",
    "        z = math.atan2(R[1, 0], R[0, 0])\n",
    "    else:\n",
    "        x = math.atan2(-R[1, 2], R[1, 1])\n",
    "        y = math.atan2(-R[2, 0], sy)\n",
    "        z = 0\n",
    "\n",
    "    return np.array([x, y, z])\n",
    "\n"
   ],
   "outputs": [],
   "execution_count": 5
  },
  {
   "metadata": {
    "ExecuteTime": {
     "end_time": "2024-11-06T12:18:05.164543Z",
     "start_time": "2024-11-06T12:18:04.949248Z"
    }
   },
   "cell_type": "code",
   "source": [
    "\n",
    "cv.imwrite('./res/gate_Front.jpg', cv.imread('./res/Gate teksture_A2RL X DCL-2.png'), [int(cv.IMWRITE_JPEG_QUALITY), 95]) \n",
    "cv.imwrite('./res/gate_Back.jpg', cv.imread('./res/Gate teksture_A2RL X DCL-2_mirror.png'), [int(cv.IMWRITE_JPEG_QUALITY), 95]) "
   ],
   "outputs": [
    {
     "name": "stderr",
     "output_type": "stream",
     "text": [
      "libpng warning: iCCP: known incorrect sRGB profile\n"
     ]
    },
    {
     "data": {
      "text/plain": [
       "True"
      ]
     },
     "execution_count": 6,
     "metadata": {},
     "output_type": "execute_result"
    }
   ],
   "execution_count": 6
  },
  {
   "metadata": {
    "ExecuteTime": {
     "end_time": "2024-11-06T12:18:06.489207Z",
     "start_time": "2024-11-06T12:18:05.173484Z"
    }
   },
   "cell_type": "code",
   "source": [
    "# Load the texture images /Users/michalkozicki/yolo-trained/res/Gate teksture_A2RL X DCL-2.png\n",
    "\n",
    "texture_front = cv.imread('./res/gate_Front.jpg', cv.IMREAD_GRAYSCALE)\n",
    "\n",
    "# Initialize a feature detector (e.g., SIFT)\n",
    "sift = cv.SIFT_create()\n",
    "\n",
    "# Detect keypoints and compute descriptors for the front texture\n",
    "keypoints_ref_texture, descriptors_ref_texture = sift.detectAndCompute(texture_front, None)\n"
   ],
   "outputs": [],
   "execution_count": 7
  },
  {
   "metadata": {
    "ExecuteTime": {
     "end_time": "2024-11-06T12:18:06.506998Z",
     "start_time": "2024-11-06T12:18:06.502265Z"
    }
   },
   "cell_type": "code",
   "source": [
    "#LOADING REFERENCE FROM 3D model\n",
    "key_points_3d = []\n",
    "with open('./res/3d_points.txt', 'r') as f:\n",
    "    for line in f:\n",
    "        x, y, z = map(float, line.strip().split())\n",
    "        key_points_3d.append([x, y, z])\n",
    "\n",
    "key_points_3d = np.array(key_points_3d, dtype=np.float32)"
   ],
   "outputs": [],
   "execution_count": 8
  },
  {
   "cell_type": "code",
   "metadata": {
    "ExecuteTime": {
     "end_time": "2024-11-06T12:18:09.034990Z",
     "start_time": "2024-11-06T12:18:06.516622Z"
    }
   },
   "source": [
    "#program runs for all results\n",
    "angles=[]\n",
    "for result in results:\n",
    "    path = result.path\n",
    "    if result.boxes.xyxy.shape[0] == 0:\n",
    "        print(f\"No bounding box found for image {path}\")\n",
    "        continue\n",
    "    #IMAGE PREPROCESSING\n",
    "    x_1, y_1, x_2, y_2 = map(int, result.boxes.xyxy[:,:4][0]) #getting xyxy values for bounding box\n",
    "    image_path=path\n",
    "    gray_image = cv.cvtColor(cv.imread(image_path), cv.COLOR_BGR2GRAY) #converting to grayscale\n",
    "    if gray_image is None:\n",
    "        print(f\"Error: Could not read image at {image_path}\")\n",
    "        continue\n",
    "    \n",
    "    cropped_image = gray_image[y_1:y_2, x_1:x_2] #cropping to bounding box\n",
    "    \n",
    "    \n",
    "    #ANALYSIS OF IMAGE\n",
    "    sift = cv.SIFT_create() #extracting keypoints from the image being processed\n",
    "    keypoints_photo, descriptors_photo = sift.detectAndCompute(cropped_image, None)\n",
    "    #assuming you have texture\n",
    "    bf = cv.BFMatcher()\n",
    "    \n",
    "    if descriptors_photo is None:\n",
    "        print(\"No descriptors found in the reference texture.\")\n",
    "        continue\n",
    "    if descriptors_ref_texture.dtype != np.float32:\n",
    "        descriptors_ref_texture = descriptors_ref_texture.astype(np.float32)    \n",
    "    matches = bf.knnMatch(descriptors_ref_texture, descriptors_photo, k=2) #using the already determined keypoints and descriptors for reference photo\n",
    "    \n",
    "    good_matches = []\n",
    "    for m, n in matches:\n",
    "        if m.distance < 0.8 * n.distance:\n",
    "            good_matches.append(m)\n",
    "    object_points = np.float32([key_points_3d[m.queryIdx] for m in good_matches if m.queryIdx < len(key_points_3d)])\n",
    "    image_points = np.float32([keypoints_photo[m.trainIdx].pt for m in good_matches if m.queryIdx < len(key_points_3d)])\n",
    "    \n",
    "    \n",
    "    \n",
    "    camera_matrix = np.array([[279.35,0,311.76],[0,371.99,240.00],[0,0,1]],np.float64)\n",
    "\n",
    "    dist_coeffs = np.array([[-2.89405277e-01,  1.38811576e-01,  2.75327250e-04,  1.47092084e-03,-4.17448721e-02]]  ,np.float64)\n",
    "    \n",
    "    #CALCULATING ROTATION\n",
    "    success, rotation_vector, translation_vector = cv.solvePnP(\n",
    "    object_points,\n",
    "    image_points,\n",
    "    camera_matrix,\n",
    "    dist_coeffs,\n",
    "    flags=cv.SOLVEPNP_ITERATIVE\n",
    "    )\n",
    "    rotation_matrix, _ = cv.Rodrigues(rotation_vector)\n",
    "    #TRANSLATING TO RPY\n",
    "    euler_angles = rotationMatrixToEulerAngles(rotation_matrix)\n",
    "    pitch, yaw, roll = np.degrees(euler_angles)\n",
    "    angles.append((result, (yaw,pitch, roll)))"
   ],
   "outputs": [
    {
     "name": "stdout",
     "output_type": "stream",
     "text": [
      "No descriptors found in the reference texture.\n",
      "No bounding box found for image /Users/michalkozicki/yolo-trained/drone-vision/datasets/images/val/gateRender1_23.jpg\n",
      "No bounding box found for image /Users/michalkozicki/yolo-trained/drone-vision/datasets/images/val/gateRender1_444.jpg\n"
     ]
    }
   ],
   "execution_count": 9
  },
  {
   "metadata": {
    "ExecuteTime": {
     "end_time": "2024-11-06T12:18:09.420740Z",
     "start_time": "2024-11-06T12:18:09.047009Z"
    }
   },
   "cell_type": "code",
   "source": [
    "i = 7\n",
    "angles[i][0].show()\n",
    "print(angles[i][1])"
   ],
   "outputs": [
    {
     "name": "stdout",
     "output_type": "stream",
     "text": [
      "(-51.639560030623244, -122.4593814305164, 60.51167499576547)\n"
     ]
    }
   ],
   "execution_count": 10
  },
  {
   "metadata": {
    "ExecuteTime": {
     "end_time": "2024-11-06T12:23:35.995350Z",
     "start_time": "2024-11-06T12:23:35.860166Z"
    }
   },
   "cell_type": "code",
   "source": [
    "width_rl = 270 #width of gate in cm\n",
    "height_rl = 270 #height of gate in cm\n",
    "f_x= camera_matrix[0][0]\n",
    "f_y = camera_matrix[1][1]\n",
    "\n",
    "for result in results: \n",
    "    if result.boxes.xyxy.numel() == 0:\n",
    "        print(\"No bounding box found for image\")\n",
    "        continue\n",
    "    _, y_1, _, y_2 = map(int, result.boxes.xyxy[:,:4][0])\n",
    "    h = y_2-y_1\n",
    "    dist = f_y*height_rl/h\n",
    "    print(dist)\n",
    "    #testComment"
   ],
   "outputs": [
    {
     "name": "stdout",
     "output_type": "stream",
     "text": [
      "858.4384615384615\n",
      "722.5705035971223\n",
      "778.5837209302326\n",
      "687.9267123287672\n",
      "411.6282786885246\n",
      "580.5624277456648\n",
      "1014.5181818181818\n",
      "913.0663636363637\n",
      "727.8065217391304\n",
      "577.2258620689655\n",
      "687.9267123287672\n",
      "502.1865\n",
      "278.2196675900277\n",
      "707.3049295774648\n",
      "482.8716346153846\n",
      "534.2409574468086\n",
      "291.96889534883724\n",
      "692.6710344827586\n",
      "577.2258620689655\n",
      "1079.9709677419355\n",
      "647.9825806451613\n",
      "929.975\n",
      "339.3152027027027\n",
      "317.8395569620253\n",
      "462.84470046082953\n",
      "551.8532967032967\n",
      "254.27164556962026\n",
      "669.582\n",
      "913.0663636363637\n",
      "No bounding box found for image\n",
      "473.7608490566038\n",
      "904.8405405405406\n",
      "665.1476821192053\n",
      "904.8405405405406\n",
      "766.6969465648855\n",
      "409.9481632653061\n",
      "947.5216981132075\n",
      "247.38251231527093\n",
      "896.7616071428572\n",
      "873.3678260869566\n",
      "692.6710344827586\n",
      "359.99032258064517\n",
      "406.62874493927126\n",
      "984.679411764706\n",
      "683.2469387755102\n",
      "567.4423728813559\n",
      "743.98\n",
      "507.2590909090909\n",
      "1068.4819148936172\n",
      "377.5838345864662\n",
      "229.30890410958904\n",
      "384.81724137931036\n",
      "984.679411764706\n",
      "310.9513931888545\n",
      "349.9557491289199\n",
      "361.28525179856115\n",
      "692.6710344827586\n",
      "545.8548913043478\n",
      "545.8548913043478\n",
      "278.2196675900277\n",
      "929.975\n",
      "252.35502512562815\n",
      "1091.7097826086956\n",
      "823.2565573770491\n",
      "881.0289473684211\n",
      "1154.451724137931\n",
      "738.5095588235295\n",
      "904.8405405405406\n",
      "476.00616113744076\n",
      "760.8886363636364\n",
      "755.1676691729324\n",
      "865.8387931034483\n",
      "674.0758389261745\n",
      "865.8387931034483\n",
      "738.5095588235295\n",
      "534.2409574468086\n",
      "220.7413186813187\n",
      "772.5946153846154\n",
      "1024.8704081632654\n",
      "331.47623762376236\n",
      "844.010924369748\n",
      "858.4384615384615\n",
      "No bounding box found for image\n",
      "352.4115789473684\n",
      "921.4431192660551\n",
      "236.3230588235294\n",
      "1004.373\n",
      "352.4115789473684\n",
      "1239.9666666666667\n",
      "896.7616071428572\n",
      "938.666355140187\n",
      "921.4431192660551\n",
      "687.9267123287672\n",
      "284.52492917847025\n",
      "352.4115789473684\n",
      "994.4287128712872\n",
      "687.9267123287672\n",
      "865.8387931034483\n",
      "888.8256637168142\n",
      "1035.4360824742269\n",
      "1035.4360824742269\n",
      "438.59082969432313\n",
      "554.9022099447513\n",
      "1068.4819148936172\n",
      "921.4431192660551\n",
      "337.03791946308723\n",
      "1167.875581395349\n",
      "318.84857142857146\n",
      "760.8886363636364\n",
      "311.91708074534165\n",
      "489.9380487804878\n",
      "343.9633561643836\n",
      "702.3587412587412\n",
      "330.3858552631579\n",
      "707.3049295774648\n",
      "674.0758389261745\n",
      "1004.373\n",
      "660.7717105263158\n",
      "749.5320895522389\n",
      "881.0289473684211\n",
      "478.27285714285716\n",
      "938.666355140187\n",
      "772.5946153846154\n",
      "809.9782258064516\n",
      "619.9833333333333\n",
      "836.9775000000001\n",
      "539.9854838709678\n",
      "965.7432692307692\n",
      "523.1109375\n",
      "492.339705882353\n",
      "749.5320895522389\n",
      "956.5457142857143\n",
      "583.9377906976745\n",
      "687.9267123287672\n",
      "525.8497382198954\n",
      "331.47623762376236\n",
      "743.98\n",
      "523.1109375\n",
      "209.24437500000002\n",
      "1128.508988764045\n",
      "702.3587412587412\n",
      "312.88878504672897\n",
      "573.9274285714285\n",
      "692.6710344827586\n",
      "1091.7097826086956\n",
      "683.2469387755102\n",
      "438.59082969432313\n",
      "583.9377906976745\n",
      "1035.4360824742269\n",
      "308.0898773006135\n",
      "240.8568345323741\n",
      "760.8886363636364\n",
      "712.3212765957447\n",
      "335.91070234113715\n",
      "616.179754601227\n",
      "749.5320895522389\n",
      "722.5705035971223\n",
      "202.0871227364185\n",
      "1035.4360824742269\n",
      "1004.373\n",
      "881.0289473684211\n",
      "305.280547112462\n",
      "365.2265454545455\n",
      "285.33323863636366\n",
      "956.5457142857143\n",
      "359.99032258064517\n",
      "305.280547112462\n",
      "674.0758389261745\n",
      "577.2258620689655\n",
      "561.1022346368716\n",
      "727.8065217391304\n",
      "366.5594890510949\n",
      "631.6811320754717\n",
      "583.9377906976745\n",
      "823.2565573770491\n",
      "1004.373\n",
      "554.9022099447513\n",
      "755.1676691729324\n",
      "702.3587412587412\n",
      "366.5594890510949\n",
      "392.333203125\n",
      "643.8288461538461\n",
      "938.666355140187\n",
      "281.336974789916\n",
      "1004.373\n",
      "243.18958837772396\n"
     ]
    }
   ],
   "execution_count": 23
  },
  {
   "metadata": {
    "ExecuteTime": {
     "end_time": "2024-11-06T12:19:41.051255Z",
     "start_time": "2024-11-06T12:19:41.019982Z"
    }
   },
   "cell_type": "code",
   "source": "result.boxes.xyxy[:,:4][0][3]",
   "outputs": [
    {
     "data": {
      "text/plain": [
       "tensor(377.3774, device='mps:0')"
      ]
     },
     "execution_count": 14,
     "metadata": {},
     "output_type": "execute_result"
    }
   ],
   "execution_count": 14
  },
  {
   "metadata": {},
   "cell_type": "code",
   "outputs": [],
   "execution_count": null,
   "source": ""
  }
 ],
 "metadata": {
  "kernelspec": {
   "display_name": "Python 3",
   "language": "python",
   "name": "python3"
  },
  "language_info": {
   "codemirror_mode": {
    "name": "ipython",
    "version": 3
   },
   "file_extension": ".py",
   "mimetype": "text/x-python",
   "name": "python",
   "nbconvert_exporter": "python",
   "pygments_lexer": "ipython3",
   "version": "3.10.15"
  }
 },
 "nbformat": 4,
 "nbformat_minor": 2
}
